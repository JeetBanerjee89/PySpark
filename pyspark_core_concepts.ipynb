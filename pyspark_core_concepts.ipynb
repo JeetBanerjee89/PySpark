{
 "cells": [
  {
   "cell_type": "code",
   "execution_count": 1,
   "id": "47f9d12c-2173-4fab-9b59-5d8c2c963ef4",
   "metadata": {},
   "outputs": [],
   "source": [
    "#initializing pyspark\n",
    "import findspark\n",
    "findspark.init()"
   ]
  },
  {
   "cell_type": "code",
   "execution_count": 2,
   "id": "faedfc3e-d7ae-48db-a70b-7a2b31771d79",
   "metadata": {},
   "outputs": [
    {
     "data": {
      "text/html": [
       "\n",
       "            <div>\n",
       "                <p><b>SparkSession - in-memory</b></p>\n",
       "                \n",
       "        <div>\n",
       "            <p><b>SparkContext</b></p>\n",
       "\n",
       "            <p><a href=\"http://LIN-5CG1349BDL.corp.capgemini.com:4040\">Spark UI</a></p>\n",
       "\n",
       "            <dl>\n",
       "              <dt>Version</dt>\n",
       "                <dd><code>v3.5.4</code></dd>\n",
       "              <dt>Master</dt>\n",
       "                <dd><code>local[*]</code></dd>\n",
       "              <dt>AppName</dt>\n",
       "                <dd><code>pyspark-shell</code></dd>\n",
       "            </dl>\n",
       "        </div>\n",
       "        \n",
       "            </div>\n",
       "        "
      ],
      "text/plain": [
       "<pyspark.sql.session.SparkSession at 0x294b5ff4b20>"
      ]
     },
     "execution_count": 2,
     "metadata": {},
     "output_type": "execute_result"
    }
   ],
   "source": [
    "#building sparksession\n",
    "import pyspark\n",
    "from pyspark.sql import SparkSession\n",
    "spark = SparkSession.builder.master(\"local[*]\").getOrCreate()\n",
    "spark"
   ]
  },
  {
   "cell_type": "code",
   "execution_count": 3,
   "id": "16bedc2b-73e9-4cfa-a47b-1b81dbadabb7",
   "metadata": {},
   "outputs": [
    {
     "name": "stdout",
     "output_type": "stream",
     "text": [
      "+---+----------+----------+------+---------------+--------------------+---------+----------+-----------+\n",
      "| id|first_name| last_name|gender|           City|            JobTitle|   Salary|  Latitude|  Longitude|\n",
      "+---+----------+----------+------+---------------+--------------------+---------+----------+-----------+\n",
      "|  1|   Melinde| Shilburne|Female|      Nowa Ruda| Assistant Professor|$57438.18|50.5774075| 16.4967184|\n",
      "|  2|  Kimberly|Von Welden|Female|         Bulgan|       Programmer II|$62846.60|48.8231572|103.5218199|\n",
      "|  3|    Alvera|  Di Boldi|Female|           NULL|                NULL|$57576.52|39.9947462|116.3397725|\n",
      "|  4|   Shannon| O'Griffin|  Male|  Divnomorskoye|Budget/Accounting...|$61489.23|44.5047212| 38.1300171|\n",
      "|  5|  Sherwood|   Macieja|  Male|      Mytishchi|            VP Sales|$63863.09|      NULL| 37.6489954|\n",
      "|  6|     Maris|      Folk|Female|Kinsealy-Drinan|      Civil Engineer|$30101.16|53.4266145| -6.1644997|\n",
      "|  7|     Masha|    Divers|Female|         Dachun|                NULL|$25090.87| 24.879416| 118.930111|\n",
      "|  8|   Goddart|     Flear|  Male|      Trélissac|Desktop Support T...|$46116.36|45.1905186|  0.7423124|\n",
      "|  9|      Roth|O'Cannavan|  Male|         Heitan|VP Product Manage...|$73697.10| 32.027934| 106.657113|\n",
      "| 10|      Bran|   Trahear|  Male|       Arbeláez|Mechanical System...|$68098.42|  4.272793| -74.416014|\n",
      "| 11|    Kylynn|   Lockart|Female|       El Cardo|Nuclear Power Eng...|$13604.63|     -5.85|-79.8833329|\n",
      "| 12|       Rey|    Meharg|Female|    Wangqingtuo|Systems Administr...|$73423.70| 39.172378| 116.931607|\n",
      "| 13|      Kerr|    Braden|  Male|      Sułkowice|Compensation Analyst|$33432.99|49.8151822| 19.3771749|\n",
      "| 14|    Mickie| Whanstall|  Male|    Springfield|Assistant Media P...|$50838.53|42.1014803|-72.5766759|\n",
      "| 15|    Kaspar|     Pally|  Male|         Chrást|  Analyst Programmer|$40163.03|49.7923299| 13.4915324|\n",
      "| 16|    Norbie|    Gwyllt|  Male|         Xijiao|              Editor|$32492.73|43.4945737|  5.8978018|\n",
      "| 17|    Claude|    Briant|Female|      Mieścisko|Research Assistan...|$51862.48|52.7441662| 17.3278637|\n",
      "| 18|     Thain|    Habbon|  Male| Foros do Trapo|     Design Engineer|$42135.67| 38.696249| -8.7098337|\n",
      "| 19|  Tiffanie|  Pattison|Female|    Jabungsisir|Senior Financial ...|$91925.08|-7.7232567|113.4686802|\n",
      "| 20|    Ettore|  Gerriets|  Male|          Pedra| Staff Accountant IV|$73921.33|40.7172049| -8.3625148|\n",
      "+---+----------+----------+------+---------------+--------------------+---------+----------+-----------+\n",
      "only showing top 20 rows\n",
      "\n"
     ]
    }
   ],
   "source": [
    "#reading CSV with syntax_1\n",
    "df = spark.read.format(\"csv\").option(\"header\", \"true\").load(\"original.csv\")\n",
    "df.show()"
   ]
  },
  {
   "cell_type": "code",
   "execution_count": 4,
   "id": "8fc0a143-6582-44e4-8eed-ae163caec217",
   "metadata": {},
   "outputs": [
    {
     "name": "stdout",
     "output_type": "stream",
     "text": [
      "+---+----------+----------+------+---------------+--------------------+---------+----------+-----------+\n",
      "| id|first_name| last_name|gender|           City|            JobTitle|   Salary|  Latitude|  Longitude|\n",
      "+---+----------+----------+------+---------------+--------------------+---------+----------+-----------+\n",
      "|  1|   Melinde| Shilburne|Female|      Nowa Ruda| Assistant Professor|$57438.18|50.5774075| 16.4967184|\n",
      "|  2|  Kimberly|Von Welden|Female|         Bulgan|       Programmer II|$62846.60|48.8231572|103.5218199|\n",
      "|  3|    Alvera|  Di Boldi|Female|           NULL|                NULL|$57576.52|39.9947462|116.3397725|\n",
      "|  4|   Shannon| O'Griffin|  Male|  Divnomorskoye|Budget/Accounting...|$61489.23|44.5047212| 38.1300171|\n",
      "|  5|  Sherwood|   Macieja|  Male|      Mytishchi|            VP Sales|$63863.09|      NULL| 37.6489954|\n",
      "|  6|     Maris|      Folk|Female|Kinsealy-Drinan|      Civil Engineer|$30101.16|53.4266145| -6.1644997|\n",
      "|  7|     Masha|    Divers|Female|         Dachun|                NULL|$25090.87| 24.879416| 118.930111|\n",
      "|  8|   Goddart|     Flear|  Male|      Trélissac|Desktop Support T...|$46116.36|45.1905186|  0.7423124|\n",
      "|  9|      Roth|O'Cannavan|  Male|         Heitan|VP Product Manage...|$73697.10| 32.027934| 106.657113|\n",
      "| 10|      Bran|   Trahear|  Male|       Arbeláez|Mechanical System...|$68098.42|  4.272793| -74.416014|\n",
      "| 11|    Kylynn|   Lockart|Female|       El Cardo|Nuclear Power Eng...|$13604.63|     -5.85|-79.8833329|\n",
      "| 12|       Rey|    Meharg|Female|    Wangqingtuo|Systems Administr...|$73423.70| 39.172378| 116.931607|\n",
      "| 13|      Kerr|    Braden|  Male|      Sułkowice|Compensation Analyst|$33432.99|49.8151822| 19.3771749|\n",
      "| 14|    Mickie| Whanstall|  Male|    Springfield|Assistant Media P...|$50838.53|42.1014803|-72.5766759|\n",
      "| 15|    Kaspar|     Pally|  Male|         Chrást|  Analyst Programmer|$40163.03|49.7923299| 13.4915324|\n",
      "| 16|    Norbie|    Gwyllt|  Male|         Xijiao|              Editor|$32492.73|43.4945737|  5.8978018|\n",
      "| 17|    Claude|    Briant|Female|      Mieścisko|Research Assistan...|$51862.48|52.7441662| 17.3278637|\n",
      "| 18|     Thain|    Habbon|  Male| Foros do Trapo|     Design Engineer|$42135.67| 38.696249| -8.7098337|\n",
      "| 19|  Tiffanie|  Pattison|Female|    Jabungsisir|Senior Financial ...|$91925.08|-7.7232567|113.4686802|\n",
      "| 20|    Ettore|  Gerriets|  Male|          Pedra| Staff Accountant IV|$73921.33|40.7172049| -8.3625148|\n",
      "+---+----------+----------+------+---------------+--------------------+---------+----------+-----------+\n",
      "only showing top 20 rows\n",
      "\n"
     ]
    }
   ],
   "source": [
    "#reading CSV with syntax_2\n",
    "df1 = spark.read.csv(\"original.csv\", header=True)\n",
    "df1.show()"
   ]
  },
  {
   "cell_type": "code",
   "execution_count": 5,
   "id": "88636c47-a69e-4bad-872a-e6b1cf8ff446",
   "metadata": {},
   "outputs": [
    {
     "data": {
      "text/plain": [
       "[('id', 'string'),\n",
       " ('first_name', 'string'),\n",
       " ('last_name', 'string'),\n",
       " ('gender', 'string'),\n",
       " ('City', 'string'),\n",
       " ('JobTitle', 'string'),\n",
       " ('Salary', 'string'),\n",
       " ('Latitude', 'string'),\n",
       " ('Longitude', 'string')]"
      ]
     },
     "execution_count": 5,
     "metadata": {},
     "output_type": "execute_result"
    }
   ],
   "source": [
    "#printing datatypes of a DataFrame\n",
    "df1.dtypes"
   ]
  },
  {
   "cell_type": "code",
   "execution_count": 6,
   "id": "634aee8d-b109-4a6f-9dde-a3794f9774d6",
   "metadata": {},
   "outputs": [
    {
     "name": "stdout",
     "output_type": "stream",
     "text": [
      "+---+----------+----------+------+---------------+--------------------+---------+----------+----------+\n",
      "| id|first_name| last_name|gender|           City|            JobTitle|   Salary|  Latitude| Longitude|\n",
      "+---+----------+----------+------+---------------+--------------------+---------+----------+----------+\n",
      "|  1|   Melinde| Shilburne|Female|      Nowa Ruda| Assistant Professor|$57438.18|50.5774075| 16.496717|\n",
      "|  2|  Kimberly|Von Welden|Female|         Bulgan|       Programmer II|$62846.60|48.8231572| 103.52182|\n",
      "|  3|    Alvera|  Di Boldi|Female|           NULL|                NULL|$57576.52|39.9947462|116.339775|\n",
      "|  4|   Shannon| O'Griffin|  Male|  Divnomorskoye|Budget/Accounting...|$61489.23|44.5047212| 38.130016|\n",
      "|  5|  Sherwood|   Macieja|  Male|      Mytishchi|            VP Sales|$63863.09|      NULL| 37.648994|\n",
      "|  6|     Maris|      Folk|Female|Kinsealy-Drinan|      Civil Engineer|$30101.16|53.4266145|-6.1644998|\n",
      "|  7|     Masha|    Divers|Female|         Dachun|                NULL|$25090.87| 24.879416|118.930115|\n",
      "|  8|   Goddart|     Flear|  Male|      Trélissac|Desktop Support T...|$46116.36|45.1905186| 0.7423124|\n",
      "|  9|      Roth|O'Cannavan|  Male|         Heitan|VP Product Manage...|$73697.10| 32.027934| 106.65711|\n",
      "| 10|      Bran|   Trahear|  Male|       Arbeláez|Mechanical System...|$68098.42|  4.272793|-74.416016|\n",
      "| 11|    Kylynn|   Lockart|Female|       El Cardo|Nuclear Power Eng...|$13604.63|     -5.85| -79.88333|\n",
      "| 12|       Rey|    Meharg|Female|    Wangqingtuo|Systems Administr...|$73423.70| 39.172378| 116.93161|\n",
      "| 13|      Kerr|    Braden|  Male|      Sułkowice|Compensation Analyst|$33432.99|49.8151822| 19.377174|\n",
      "| 14|    Mickie| Whanstall|  Male|    Springfield|Assistant Media P...|$50838.53|42.1014803|-72.576675|\n",
      "| 15|    Kaspar|     Pally|  Male|         Chrást|  Analyst Programmer|$40163.03|49.7923299| 13.491532|\n",
      "| 16|    Norbie|    Gwyllt|  Male|         Xijiao|              Editor|$32492.73|43.4945737|  5.897802|\n",
      "| 17|    Claude|    Briant|Female|      Mieścisko|Research Assistan...|$51862.48|52.7441662| 17.327864|\n",
      "| 18|     Thain|    Habbon|  Male| Foros do Trapo|     Design Engineer|$42135.67| 38.696249| -8.709834|\n",
      "| 19|  Tiffanie|  Pattison|Female|    Jabungsisir|Senior Financial ...|$91925.08|-7.7232567| 113.46868|\n",
      "| 20|    Ettore|  Gerriets|  Male|          Pedra| Staff Accountant IV|$73921.33|40.7172049|-8.3625145|\n",
      "+---+----------+----------+------+---------------+--------------------+---------+----------+----------+\n",
      "only showing top 20 rows\n",
      "\n"
     ]
    }
   ],
   "source": [
    "#customized schema\n",
    "from pyspark.sql.types import *\n",
    "myschema = StructType([\n",
    "    StructField(\"id\", IntegerType()),\n",
    "    StructField(\"first_name\", StringType()),\n",
    "    StructField(\"last_name\", StringType()),\n",
    "    StructField(\"gender\", StringType()),\n",
    "    StructField(\"City\", StringType()),\n",
    "    StructField(\"JobTitle\", StringType()),\n",
    "    StructField(\"Salary\", StringType()),\n",
    "    StructField(\"Latitude\", StringType()),\n",
    "    StructField(\"Longitude\", FloatType())\n",
    "])\n",
    "df2 = spark.read.csv(\"original.csv\", header=True, schema=myschema)\n",
    "df2.show()"
   ]
  },
  {
   "cell_type": "code",
   "execution_count": 7,
   "id": "299e9017-b8e8-4407-96f0-edd98c7e5004",
   "metadata": {},
   "outputs": [
    {
     "data": {
      "text/plain": [
       "[('id', 'int'),\n",
       " ('first_name', 'string'),\n",
       " ('last_name', 'string'),\n",
       " ('gender', 'string'),\n",
       " ('City', 'string'),\n",
       " ('JobTitle', 'string'),\n",
       " ('Salary', 'string'),\n",
       " ('Latitude', 'string'),\n",
       " ('Longitude', 'float')]"
      ]
     },
     "execution_count": 7,
     "metadata": {},
     "output_type": "execute_result"
    }
   ],
   "source": [
    "#printing datatypes of a DataFrame with customized schema\n",
    "df2.dtypes"
   ]
  },
  {
   "cell_type": "code",
   "execution_count": 8,
   "id": "42033d21-6cc6-4240-9e15-5a289b41763e",
   "metadata": {},
   "outputs": [
    {
     "data": {
      "text/plain": [
       "[Row(id=1, first_name='Melinde', last_name='Shilburne', gender='Female', City='Nowa Ruda', JobTitle='Assistant Professor', Salary='$57438.18', Latitude='50.5774075', Longitude=16.49671745300293),\n",
       " Row(id=2, first_name='Kimberly', last_name='Von Welden', gender='Female', City='Bulgan', JobTitle='Programmer II', Salary='$62846.60', Latitude='48.8231572', Longitude=103.52182006835938),\n",
       " Row(id=3, first_name='Alvera', last_name='Di Boldi', gender='Female', City=None, JobTitle=None, Salary='$57576.52', Latitude='39.9947462', Longitude=116.33977508544922),\n",
       " Row(id=4, first_name='Shannon', last_name=\"O'Griffin\", gender='Male', City='Divnomorskoye', JobTitle='Budget/Accounting Analyst II', Salary='$61489.23', Latitude='44.5047212', Longitude=38.1300163269043),\n",
       " Row(id=5, first_name='Sherwood', last_name='Macieja', gender='Male', City='Mytishchi', JobTitle='VP Sales', Salary='$63863.09', Latitude=None, Longitude=37.64899444580078),\n",
       " Row(id=6, first_name='Maris', last_name='Folk', gender='Female', City='Kinsealy-Drinan', JobTitle='Civil Engineer', Salary='$30101.16', Latitude='53.4266145', Longitude=-6.164499759674072),\n",
       " Row(id=7, first_name='Masha', last_name='Divers', gender='Female', City='Dachun', JobTitle=None, Salary='$25090.87', Latitude='24.879416', Longitude=118.93011474609375),\n",
       " Row(id=8, first_name='Goddart', last_name='Flear', gender='Male', City='Trélissac', JobTitle='Desktop Support Technician', Salary='$46116.36', Latitude='45.1905186', Longitude=0.7423123717308044),\n",
       " Row(id=9, first_name='Roth', last_name=\"O'Cannavan\", gender='Male', City='Heitan', JobTitle='VP Product Management', Salary='$73697.10', Latitude='32.027934', Longitude=106.65711212158203),\n",
       " Row(id=10, first_name='Bran', last_name='Trahear', gender='Male', City='Arbeláez', JobTitle='Mechanical Systems Engineer', Salary='$68098.42', Latitude='4.272793', Longitude=-74.416015625)]"
      ]
     },
     "execution_count": 8,
     "metadata": {},
     "output_type": "execute_result"
    }
   ],
   "source": [
    "#printing top 10 rows\n",
    "df2.head(10)"
   ]
  },
  {
   "cell_type": "code",
   "execution_count": 9,
   "id": "f06c2cdb-00f8-43cf-ac6d-0b5b090f402c",
   "metadata": {},
   "outputs": [
    {
     "data": {
      "text/plain": [
       "<bound method DataFrame.first of DataFrame[id: int, first_name: string, last_name: string, gender: string, City: string, JobTitle: string, Salary: string, Latitude: string, Longitude: float]>"
      ]
     },
     "execution_count": 9,
     "metadata": {},
     "output_type": "execute_result"
    }
   ],
   "source": [
    "#printing headers with schema\n",
    "df2.first"
   ]
  },
  {
   "cell_type": "code",
   "execution_count": 10,
   "id": "fe201db9-7b8d-4753-8d51-7d4fc6a10151",
   "metadata": {},
   "outputs": [
    {
     "name": "stdout",
     "output_type": "stream",
     "text": [
      "+-------+-----------------+----------+---------+------+-------------------+-------------------+---------+-----------------+-----------------+\n",
      "|summary|               id|first_name|last_name|gender|               City|           JobTitle|   Salary|         Latitude|        Longitude|\n",
      "+-------+-----------------+----------+---------+------+-------------------+-------------------+---------+-----------------+-----------------+\n",
      "|  count|             1000|      1000|     1000|  1000|                999|                998|     1000|              999|             1000|\n",
      "|   mean|            500.5|      NULL|     NULL|  NULL|               NULL|               NULL|     NULL|25.43151724234234|43.33756460386515|\n",
      "| stddev|288.8194360957494|      NULL|     NULL|  NULL|               NULL|               NULL|     NULL| 24.5790825486909| 69.4206453674681|\n",
      "|    min|                1|   Abagail|    Abbay|Female|             Abéché|Account Coordinator|$10101.92|       -0.6256517|       -123.04196|\n",
      "|    max|             1000|    Zulema| de Marco|  Male|‘Aşīrah al Qiblīyah|   Web Developer IV|$99948.28|        9.9533828|        175.28227|\n",
      "+-------+-----------------+----------+---------+------+-------------------+-------------------+---------+-----------------+-----------------+\n",
      "\n"
     ]
    }
   ],
   "source": [
    "#printing basic statistical parameters of columns\n",
    "df2.describe().show()"
   ]
  },
  {
   "cell_type": "code",
   "execution_count": 11,
   "id": "3376e8d1-615d-422f-9eb1-eab18e0eae97",
   "metadata": {},
   "outputs": [
    {
     "data": {
      "text/plain": [
       "['id',\n",
       " 'first_name',\n",
       " 'last_name',\n",
       " 'gender',\n",
       " 'City',\n",
       " 'JobTitle',\n",
       " 'Salary',\n",
       " 'Latitude',\n",
       " 'Longitude']"
      ]
     },
     "execution_count": 11,
     "metadata": {},
     "output_type": "execute_result"
    }
   ],
   "source": [
    "#printing columns\n",
    "df2.columns"
   ]
  },
  {
   "cell_type": "code",
   "execution_count": 12,
   "id": "476ec330-9347-4964-a55b-418bfa6c453d",
   "metadata": {},
   "outputs": [
    {
     "data": {
      "text/plain": [
       "1000"
      ]
     },
     "execution_count": 12,
     "metadata": {},
     "output_type": "execute_result"
    }
   ],
   "source": [
    "#printing no. of rows\n",
    "df2.count()"
   ]
  },
  {
   "cell_type": "code",
   "execution_count": 13,
   "id": "aa59dc0d-00e5-4b93-9a0c-26d9405720f4",
   "metadata": {},
   "outputs": [
    {
     "data": {
      "text/plain": [
       "1000"
      ]
     },
     "execution_count": 13,
     "metadata": {},
     "output_type": "execute_result"
    }
   ],
   "source": [
    "#printing no. of distinct rows \n",
    "df2.distinct().count()"
   ]
  },
  {
   "cell_type": "code",
   "execution_count": 14,
   "id": "6f1703ee-141d-4289-be4b-cedd3abb9131",
   "metadata": {},
   "outputs": [
    {
     "name": "stdout",
     "output_type": "stream",
     "text": [
      "+---+----------+----------+------+---------------+--------------------+---------+----------+----------+\n",
      "| id|first_name| last_name|gender|           City|            JobTitle|   Salary|  Latitude| Longitude|\n",
      "+---+----------+----------+------+---------------+--------------------+---------+----------+----------+\n",
      "|  1|   Melinde| Shilburne|Female|      Nowa Ruda| Assistant Professor|$57438.18|50.5774075| 16.496717|\n",
      "|  2|  Kimberly|Von Welden|Female|         Bulgan|       Programmer II|$62846.60|48.8231572| 103.52182|\n",
      "|  4|   Shannon| O'Griffin|  Male|  Divnomorskoye|Budget/Accounting...|$61489.23|44.5047212| 38.130016|\n",
      "|  6|     Maris|      Folk|Female|Kinsealy-Drinan|      Civil Engineer|$30101.16|53.4266145|-6.1644998|\n",
      "|  8|   Goddart|     Flear|  Male|      Trélissac|Desktop Support T...|$46116.36|45.1905186| 0.7423124|\n",
      "+---+----------+----------+------+---------------+--------------------+---------+----------+----------+\n",
      "only showing top 5 rows\n",
      "\n"
     ]
    }
   ],
   "source": [
    "#dropping 'NA' values\n",
    "df2_dropped = df2.na.drop()\n",
    "df2_dropped.show(5)"
   ]
  },
  {
   "cell_type": "code",
   "execution_count": 15,
   "id": "76de5307-2e60-4546-ab27-386fd16f28a0",
   "metadata": {},
   "outputs": [
    {
     "name": "stdout",
     "output_type": "stream",
     "text": [
      "+---+----------+----------+------+---------------+--------------------+---------+----------+----------+\n",
      "| id|first_name| last_name|gender|           City|            JobTitle|   Salary|  Latitude| Longitude|\n",
      "+---+----------+----------+------+---------------+--------------------+---------+----------+----------+\n",
      "|  1|   Melinde| Shilburne|Female|      Nowa Ruda| Assistant Professor|$57438.18|50.5774075| 16.496717|\n",
      "|  2|  Kimberly|Von Welden|Female|         Bulgan|       Programmer II|$62846.60|48.8231572| 103.52182|\n",
      "|  4|   Shannon| O'Griffin|  Male|  Divnomorskoye|Budget/Accounting...|$61489.23|44.5047212| 38.130016|\n",
      "|  5|  Sherwood|   Macieja|  Male|      Mytishchi|            VP Sales|$63863.09|      NULL| 37.648994|\n",
      "|  6|     Maris|      Folk|Female|Kinsealy-Drinan|      Civil Engineer|$30101.16|53.4266145|-6.1644998|\n",
      "+---+----------+----------+------+---------------+--------------------+---------+----------+----------+\n",
      "only showing top 5 rows\n",
      "\n"
     ]
    }
   ],
   "source": [
    "#extracting data for which 'JobTitle' is NotNull\n",
    "df2_null_jobs = df2.filter(df2.JobTitle.isNotNull())\n",
    "df2_null_jobs.show(5)"
   ]
  },
  {
   "cell_type": "code",
   "execution_count": 16,
   "id": "b593258d-9ba1-4b2b-9d15-a3796c76c869",
   "metadata": {},
   "outputs": [
    {
     "name": "stdout",
     "output_type": "stream",
     "text": [
      "+---+----------+----------+------+-------------+--------------------+---------+----------+----------+-------------+\n",
      "| id|first_name| last_name|gender|         City|            JobTitle|   Salary|  Latitude| Longitude|   clean_city|\n",
      "+---+----------+----------+------+-------------+--------------------+---------+----------+----------+-------------+\n",
      "|  1|   Melinde| Shilburne|Female|    Nowa Ruda| Assistant Professor|$57438.18|50.5774075| 16.496717|    Nowa Ruda|\n",
      "|  2|  Kimberly|Von Welden|Female|       Bulgan|       Programmer II|$62846.60|48.8231572| 103.52182|       Bulgan|\n",
      "|  3|    Alvera|  Di Boldi|Female|         NULL|                NULL|$57576.52|39.9947462|116.339775|      Unknown|\n",
      "|  4|   Shannon| O'Griffin|  Male|Divnomorskoye|Budget/Accounting...|$61489.23|44.5047212| 38.130016|Divnomorskoye|\n",
      "|  5|  Sherwood|   Macieja|  Male|    Mytishchi|            VP Sales|$63863.09|      NULL| 37.648994|    Mytishchi|\n",
      "+---+----------+----------+------+-------------+--------------------+---------+----------+----------+-------------+\n",
      "only showing top 5 rows\n",
      "\n"
     ]
    }
   ],
   "source": [
    "#replacing NULL values with 'Unknown' keyword for 'City' column\n",
    "from pyspark.sql.functions import *\n",
    "df2_handled = df2.withColumn(\"clean_city\", when(df2.City.isNull(), \"Unknown\").otherwise(df2.City))\n",
    "df2_handled.show(5)"
   ]
  },
  {
   "cell_type": "code",
   "execution_count": 17,
   "id": "0b5ef0fe-46bd-4c10-a740-67f04a0712c9",
   "metadata": {},
   "outputs": [
    {
     "name": "stdout",
     "output_type": "stream",
     "text": [
      "+---+----------+---------+------+------------------+--------------------+---------+-----------+----------+\n",
      "| id|first_name|last_name|gender|              City|            JobTitle|   Salary|   Latitude| Longitude|\n",
      "+---+----------+---------+------+------------------+--------------------+---------+-----------+----------+\n",
      "|159|Georgianne|Henriques|Female|            Jinsha|Environmental Spe...|$63954.52|  30.679359|104.011665|\n",
      "|215|     Angel|  Robjant|  Male|   Bambous Virieux|Occupational Ther...|$96856.73|-20.3438619| 57.763683|\n",
      "|377|     Noach|  Golling|  Male|          Yuanqiao| Executive Secretary|$72247.30|    32.5639| 120.39677|\n",
      "|525|     Terry|   Layton|Female|San Pedro Masahuat|    Dental Hygienist|$10808.16| 13.5432995| -89.03824|\n",
      "|833|    Damara|  Beaford|Female|           Połomia|Environmental Spe...|$10616.44| 49.9890993| 18.569973|\n",
      "+---+----------+---------+------+------------------+--------------------+---------+-----------+----------+\n",
      "only showing top 5 rows\n",
      "\n"
     ]
    }
   ],
   "source": [
    "#dropping duplicates\n",
    "df2_no_duplicates = df2.dropDuplicates()\n",
    "df2_no_duplicates.show(5)"
   ]
  },
  {
   "cell_type": "code",
   "execution_count": 18,
   "id": "36477449-1815-4b57-aa3f-48884ef05b14",
   "metadata": {},
   "outputs": [
    {
     "name": "stdout",
     "output_type": "stream",
     "text": [
      "+----------+----------+\n",
      "|first_name| last_name|\n",
      "+----------+----------+\n",
      "|   Melinde| Shilburne|\n",
      "|  Kimberly|Von Welden|\n",
      "|    Alvera|  Di Boldi|\n",
      "|   Shannon| O'Griffin|\n",
      "|  Sherwood|   Macieja|\n",
      "+----------+----------+\n",
      "only showing top 5 rows\n",
      "\n"
     ]
    }
   ],
   "source": [
    "#selecting specific columns\n",
    "df2_select = df2.select(\"first_name\", \"last_name\")\n",
    "df2_select.show(5)"
   ]
  },
  {
   "cell_type": "code",
   "execution_count": 19,
   "id": "3c6b10c7-d0be-4135-a6cb-4cbe09333797",
   "metadata": {},
   "outputs": [
    {
     "name": "stdout",
     "output_type": "stream",
     "text": [
      "+---+--------+----------+------+-------------+--------------------+---------+----------+----------+\n",
      "| id|      fn| last_name|gender|         City|            JobTitle|   Salary|  Latitude| Longitude|\n",
      "+---+--------+----------+------+-------------+--------------------+---------+----------+----------+\n",
      "|  1| Melinde| Shilburne|Female|    Nowa Ruda| Assistant Professor|$57438.18|50.5774075| 16.496717|\n",
      "|  2|Kimberly|Von Welden|Female|       Bulgan|       Programmer II|$62846.60|48.8231572| 103.52182|\n",
      "|  3|  Alvera|  Di Boldi|Female|         NULL|                NULL|$57576.52|39.9947462|116.339775|\n",
      "|  4| Shannon| O'Griffin|  Male|Divnomorskoye|Budget/Accounting...|$61489.23|44.5047212| 38.130016|\n",
      "|  5|Sherwood|   Macieja|  Male|    Mytishchi|            VP Sales|$63863.09|      NULL| 37.648994|\n",
      "+---+--------+----------+------+-------------+--------------------+---------+----------+----------+\n",
      "only showing top 5 rows\n",
      "\n"
     ]
    }
   ],
   "source": [
    "#renaming column\n",
    "df2_renamed = df2.withColumnRenamed(\"first_name\", \"fn\")\n",
    "df2_renamed.show(5)"
   ]
  },
  {
   "cell_type": "code",
   "execution_count": 20,
   "id": "b5f4a78f-0f41-4a7e-b35f-8444e96cb789",
   "metadata": {},
   "outputs": [
    {
     "name": "stdout",
     "output_type": "stream",
     "text": [
      "+---+----------+----------+------+------+-------------+---------+----------+---------+\n",
      "| id|first_name| last_name|gender|  City|     JobTitle|   Salary|  Latitude|Longitude|\n",
      "+---+----------+----------+------+------+-------------+---------+----------+---------+\n",
      "|  2|  Kimberly|Von Welden|Female|Bulgan|Programmer II|$62846.60|48.8231572|103.52182|\n",
      "+---+----------+----------+------+------+-------------+---------+----------+---------+\n",
      "\n"
     ]
    }
   ],
   "source": [
    "#filtering specific row w.r.t 'last_name'\n",
    "df2_filter = df2.filter(df2.last_name == \"Von Welden\")\n",
    "df2_filter.show()"
   ]
  },
  {
   "cell_type": "code",
   "execution_count": 21,
   "id": "d8ef11f8-7680-49d7-ab0b-07dc1088a183",
   "metadata": {},
   "outputs": [
    {
     "name": "stdout",
     "output_type": "stream",
     "text": [
      "+---+----------+----------+------+-------+--------------------+---------+----------+----------+\n",
      "| id|first_name| last_name|gender|   City|            JobTitle|   Salary|  Latitude| Longitude|\n",
      "+---+----------+----------+------+-------+--------------------+---------+----------+----------+\n",
      "|  3|    Alvera|  Di Boldi|Female|   NULL|                NULL|$57576.52|39.9947462|116.339775|\n",
      "|177|   Gerardo|Pentercost|  Male|  Samal|    Technical Writer|$22930.28|14.6874444| 120.96388|\n",
      "|328|   Veradis| Churchman|Female|Baalbek|       Social Worker|$59975.62|34.0046888|  36.21104|\n",
      "|394|      Vera| Rosenbarg|Female|Šluknov|Research Assistan...|$49332.48|51.0031913| 14.442367|\n",
      "|750|Fitzgerald|  Moorwood|  Male| Lamego|Human Resources A...|$64970.85|41.0953745|-7.8123803|\n",
      "+---+----------+----------+------+-------+--------------------+---------+----------+----------+\n",
      "\n"
     ]
    }
   ],
   "source": [
    "#filtering rows w.r.t the presence of a phrase in 'first_name' column\n",
    "# df2_filter = df2.filter(df2.first_name.like(\"%era\")) #ending with 'era'\n",
    "# df2_filter = df2.filter(df2.first_name.like(\"Kim%\")) #starting with 'Kim'\n",
    "df2_filter = df2.filter(df2.first_name.like(\"%era%\")) #contains 'era'\n",
    "df2_filter.show()"
   ]
  },
  {
   "cell_type": "code",
   "execution_count": 22,
   "id": "ea298bfd-03cf-4af5-82ae-dabd870931e1",
   "metadata": {},
   "outputs": [
    {
     "name": "stdout",
     "output_type": "stream",
     "text": [
      "+---+----------+-------------+------+-----------+--------+---------+-----------+---------+\n",
      "| id|first_name|    last_name|gender|       City|JobTitle|   Salary|   Latitude|Longitude|\n",
      "+---+----------+-------------+------+-----------+--------+---------+-----------+---------+\n",
      "|901|     Aldin|Matuszkiewicz|  Male|East London|Operator|$41468.83|-32.9549324|27.931913|\n",
      "+---+----------+-------------+------+-----------+--------+---------+-----------+---------+\n",
      "\n"
     ]
    }
   ],
   "source": [
    "#filtering rows for which 'first_name' column ends with 'din'\n",
    "df2_filter = df2.filter(df2.first_name.endswith(\"din\"))\n",
    "df2_filter.show(5)"
   ]
  },
  {
   "cell_type": "code",
   "execution_count": 23,
   "id": "9e8907e5-fd6e-4f7c-bc87-e4c3635d0afa",
   "metadata": {},
   "outputs": [
    {
     "name": "stdout",
     "output_type": "stream",
     "text": [
      "+---+----------+---------+------+----------+--------------------+---------+----------+----------+\n",
      "| id|first_name|last_name|gender|      City|            JobTitle|   Salary|  Latitude| Longitude|\n",
      "+---+----------+---------+------+----------+--------------------+---------+----------+----------+\n",
      "|  3|    Alvera| Di Boldi|Female|      NULL|                NULL|$57576.52|39.9947462|116.339775|\n",
      "| 81|     Alvin|    Doman|  Male|      Niny|Research Assistant I|$53258.86|44.4868448| 43.940807|\n",
      "|775|   Alverta| MacNulty|Female|Megalópoli| Geological Engineer|$17299.62| 37.401244| 22.136488|\n",
      "+---+----------+---------+------+----------+--------------------+---------+----------+----------+\n",
      "\n"
     ]
    }
   ],
   "source": [
    "#filtering rows for which 'first_name' column starts with 'Alv'\n",
    "df2_filter = df2.filter(df2.first_name.startswith(\"Alv\"))\n",
    "df2_filter.show(5)"
   ]
  },
  {
   "cell_type": "code",
   "execution_count": 24,
   "id": "7187a076-1e2e-4a14-bb04-63c6692437c1",
   "metadata": {},
   "outputs": [
    {
     "name": "stdout",
     "output_type": "stream",
     "text": [
      "+---+----------+----------+------+----------------+--------------------+---------+----------+----------+\n",
      "| id|first_name| last_name|gender|            City|            JobTitle|   Salary|  Latitude| Longitude|\n",
      "+---+----------+----------+------+----------------+--------------------+---------+----------+----------+\n",
      "|100|      Aime|   Phlippi|Female|   Leshukonskoye|   Account Executive|$15428.49|64.8973466| 45.765175|\n",
      "|101|     Alene|       Odd|Female|   María la Baja|Accounting Assist...|$37379.03| 9.9141597| -75.41116|\n",
      "|102|    Olivia|  Tregidgo|Female|           Dahua| Assistant Professor|$28120.01| 23.736457|107.998146|\n",
      "|103|Westbrooke|Itchingham|  Male|      Đông Thành|Structural Analys...|$23180.71|20.2639567| 105.97534|\n",
      "|104|   Chantal| Darlaston|Female|          Kahama|Sales Representative|$27726.38| -3.837556| 32.593826|\n",
      "|105|    Dorisa|  Screwton|Female|Kuala Terengganu| Clinical Specialist|$81003.76|  5.329576| 103.13691|\n",
      "|106|      Kory|     Sayre|  Male|            Caen|  Office Assistant I|$81237.21| 49.285973|-0.4889547|\n",
      "|107|    Rhodia|  Glazzard|Female|        Predavac|             Actuary|$42166.97|45.9380817| 16.780666|\n",
      "|108|    Miriam|     Jertz|Female|           Hekou|    Quality Engineer|$27902.32| 22.529403| 103.93935|\n",
      "|109|   Thibaud|    Muncer|  Male|            Évry|Human Resources M...|$77843.68|48.6277459| 2.4381666|\n",
      "|110| Annadiana|    Keward|Female|          Jiashi|           Paralegal|$23456.67| 39.488181|  76.72372|\n",
      "+---+----------+----------+------+----------------+--------------------+---------+----------+----------+\n",
      "\n"
     ]
    }
   ],
   "source": [
    "#filtering rows for which 'id' column contains values in-between 100 and 110\n",
    "df2_filter = df2.filter(df2.id.between(100, 110))\n",
    "df2_filter.show()"
   ]
  },
  {
   "cell_type": "code",
   "execution_count": 25,
   "id": "75f8af92-1e47-4683-bd5d-08c65888c9cf",
   "metadata": {},
   "outputs": [
    {
     "name": "stdout",
     "output_type": "stream",
     "text": [
      "+---+----------+---------+------+----------------+-------------------+---------+--------+---------+\n",
      "| id|first_name|last_name|gender|            City|           JobTitle|   Salary|Latitude|Longitude|\n",
      "+---+----------+---------+------+----------------+-------------------+---------+--------+---------+\n",
      "|105|    Dorisa| Screwton|Female|Kuala Terengganu|Clinical Specialist|$81003.76|5.329576|103.13691|\n",
      "+---+----------+---------+------+----------------+-------------------+---------+--------+---------+\n",
      "\n"
     ]
    }
   ],
   "source": [
    "#filtering rows for which 'first_name' column contains 'Dorisa'\n",
    "df2_filter = df2.filter(df2.first_name.isin(\"Dorisa\"))\n",
    "df2_filter.show()"
   ]
  },
  {
   "cell_type": "code",
   "execution_count": 26,
   "id": "b9939432-6757-4ed7-b92f-b9bfd89a4ece",
   "metadata": {},
   "outputs": [
    {
     "name": "stdout",
     "output_type": "stream",
     "text": [
      "+----------+-----+\n",
      "|first_name| name|\n",
      "+----------+-----+\n",
      "|   Melinde|Melin|\n",
      "|  Kimberly|Kimbe|\n",
      "|    Alvera|Alver|\n",
      "|   Shannon|Shann|\n",
      "|  Sherwood|Sherw|\n",
      "|     Maris|Maris|\n",
      "|     Masha|Masha|\n",
      "|   Goddart|Godda|\n",
      "|      Roth| Roth|\n",
      "|      Bran| Bran|\n",
      "|    Kylynn|Kylyn|\n",
      "|       Rey|  Rey|\n",
      "|      Kerr| Kerr|\n",
      "|    Mickie|Micki|\n",
      "|    Kaspar|Kaspa|\n",
      "|    Norbie|Norbi|\n",
      "|    Claude|Claud|\n",
      "|     Thain|Thain|\n",
      "|  Tiffanie|Tiffa|\n",
      "|    Ettore|Ettor|\n",
      "+----------+-----+\n",
      "only showing top 20 rows\n",
      "\n"
     ]
    }
   ],
   "source": [
    "#extracting a substring from 'first_name' column\n",
    "df2_substr = df2.select(df2.first_name, df2.first_name.substr(1, 5).alias(\"name\"))\n",
    "df2_substr.show()"
   ]
  },
  {
   "cell_type": "code",
   "execution_count": 27,
   "id": "4be5a4de-5c2c-410d-91ab-10aca7e15e66",
   "metadata": {},
   "outputs": [
    {
     "name": "stdout",
     "output_type": "stream",
     "text": [
      "+---+----------+---------+------+-------------+--------------------+---------+----------+---------+\n",
      "| id|first_name|last_name|gender|         City|            JobTitle|   Salary|  Latitude|Longitude|\n",
      "+---+----------+---------+------+-------------+--------------------+---------+----------+---------+\n",
      "|100|      Aime|  Phlippi|Female|Leshukonskoye|   Account Executive|$15428.49|64.8973466|45.765175|\n",
      "|101|     Alene|      Odd|Female|María la Baja|Accounting Assist...|$37379.03| 9.9141597|-75.41116|\n",
      "+---+----------+---------+------+-------------+--------------------+---------+----------+---------+\n",
      "\n"
     ]
    }
   ],
   "source": [
    "#filtering with OR condition\n",
    "# df2_filter = df2.filter(df2.first_name.isin(\"Alene\", \"Aime\"))\n",
    "# df2_filter = df2.filter(df2.City.like(\"%Pedra\"))\n",
    "df2_filter = df2.filter(df2.first_name.isin(\"Alene\", \"Aime\") | (df2.City.like(\"%la Baja\")))\n",
    "df2_filter.show()"
   ]
  },
  {
   "cell_type": "code",
   "execution_count": 28,
   "id": "0013a43c-b2b6-45e3-bbb6-bf0f34eb6d15",
   "metadata": {},
   "outputs": [
    {
     "name": "stdout",
     "output_type": "stream",
     "text": [
      "+---+----------+---------+------+--------------+--------------------+---------+----------+----------+\n",
      "| id|first_name|last_name|gender|          City|            JobTitle|   Salary|  Latitude| Longitude|\n",
      "+---+----------+---------+------+--------------+--------------------+---------+----------+----------+\n",
      "| 10|      Bran|  Trahear|  Male|      Arbeláez|Mechanical System...|$68098.42|  4.272793|-74.416016|\n",
      "| 11|    Kylynn|  Lockart|Female|      El Cardo|Nuclear Power Eng...|$13604.63|     -5.85| -79.88333|\n",
      "| 12|       Rey|   Meharg|Female|   Wangqingtuo|Systems Administr...|$73423.70| 39.172378| 116.93161|\n",
      "| 13|      Kerr|   Braden|  Male|     Sułkowice|Compensation Analyst|$33432.99|49.8151822| 19.377174|\n",
      "| 14|    Mickie|Whanstall|  Male|   Springfield|Assistant Media P...|$50838.53|42.1014803|-72.576675|\n",
      "| 15|    Kaspar|    Pally|  Male|        Chrást|  Analyst Programmer|$40163.03|49.7923299| 13.491532|\n",
      "| 16|    Norbie|   Gwyllt|  Male|        Xijiao|              Editor|$32492.73|43.4945737|  5.897802|\n",
      "| 17|    Claude|   Briant|Female|     Mieścisko|Research Assistan...|$51862.48|52.7441662| 17.327864|\n",
      "| 18|     Thain|   Habbon|  Male|Foros do Trapo|     Design Engineer|$42135.67| 38.696249| -8.709834|\n",
      "| 19|  Tiffanie| Pattison|Female|   Jabungsisir|Senior Financial ...|$91925.08|-7.7232567| 113.46868|\n",
      "| 20|    Ettore| Gerriets|  Male|         Pedra| Staff Accountant IV|$73921.33|40.7172049|-8.3625145|\n",
      "+---+----------+---------+------+--------------+--------------------+---------+----------+----------+\n",
      "\n"
     ]
    }
   ],
   "source": [
    "#filtering with 'and' condition\n",
    "df2_filter = df2.filter((df2.id >= 10) & (df2.id <= 20))\n",
    "df2_filter.show()"
   ]
  },
  {
   "cell_type": "code",
   "execution_count": 29,
   "id": "65ec6b46-655a-40e7-925b-f6a07bcc5c29",
   "metadata": {},
   "outputs": [
    {
     "name": "stderr",
     "output_type": "stream",
     "text": [
      "C:\\Users\\jebanerj\\AppData\\Local\\Programs\\Python\\Python310\\lib\\site-packages\\pyspark\\sql\\dataframe.py:329: FutureWarning: Deprecated in 2.0, use createOrReplaceTempView instead.\n",
      "  warnings.warn(\"Deprecated in 2.0, use createOrReplaceTempView instead.\", FutureWarning)\n"
     ]
    }
   ],
   "source": [
    "#registering a temporary table\n",
    "df2.registerTempTable(\"Original\")"
   ]
  },
  {
   "cell_type": "code",
   "execution_count": 30,
   "id": "61038a96-cb5b-4cbe-bb1c-6b87f4de750f",
   "metadata": {},
   "outputs": [
    {
     "name": "stdout",
     "output_type": "stream",
     "text": [
      "+---+----------+----------+------+-------------+--------------------+---------+----------+----------+\n",
      "| id|first_name| last_name|gender|         City|            JobTitle|   Salary|  Latitude| Longitude|\n",
      "+---+----------+----------+------+-------------+--------------------+---------+----------+----------+\n",
      "|  1|   Melinde| Shilburne|Female|    Nowa Ruda| Assistant Professor|$57438.18|50.5774075| 16.496717|\n",
      "|  2|  Kimberly|Von Welden|Female|       Bulgan|       Programmer II|$62846.60|48.8231572| 103.52182|\n",
      "|  3|    Alvera|  Di Boldi|Female|         NULL|                NULL|$57576.52|39.9947462|116.339775|\n",
      "|  4|   Shannon| O'Griffin|  Male|Divnomorskoye|Budget/Accounting...|$61489.23|44.5047212| 38.130016|\n",
      "|  5|  Sherwood|   Macieja|  Male|    Mytishchi|            VP Sales|$63863.09|      NULL| 37.648994|\n",
      "+---+----------+----------+------+-------------+--------------------+---------+----------+----------+\n",
      "only showing top 5 rows\n",
      "\n"
     ]
    }
   ],
   "source": [
    "#SQL-query_1\n",
    "query_1 = spark.sql(\n",
    "    'select *\\\n",
    "    from original')\n",
    "query_1.show(5)"
   ]
  },
  {
   "cell_type": "code",
   "execution_count": 31,
   "id": "38d754a1-2585-40a4-839f-effabbf8b4b3",
   "metadata": {},
   "outputs": [
    {
     "name": "stdout",
     "output_type": "stream",
     "text": [
      "+--------------------+\n",
      "|           full_name|\n",
      "+--------------------+\n",
      "|   Shannon O'Griffin|\n",
      "|    Sherwood Macieja|\n",
      "|       Goddart Flear|\n",
      "|     Roth O'Cannavan|\n",
      "|        Bran Trahear|\n",
      "|         Kerr Braden|\n",
      "|    Mickie Whanstall|\n",
      "|        Kaspar Pally|\n",
      "|       Norbie Gwyllt|\n",
      "|        Thain Habbon|\n",
      "|     Ettore Gerriets|\n",
      "|       Alon Chasteau|\n",
      "|      Guthrey Johnke|\n",
      "|       Jarvis Perone|\n",
      "|Westleigh Belderf...|\n",
      "|       Odell Morritt|\n",
      "|      Base Summerlad|\n",
      "|       Paddy Ashness|\n",
      "|         Nicko Frays|\n",
      "|      Hadrian Crumpe|\n",
      "+--------------------+\n",
      "only showing top 20 rows\n",
      "\n"
     ]
    }
   ],
   "source": [
    "#SQL-query_2\n",
    "query_2 = spark.sql(\n",
    "    'select concat(first_name, \" \", last_name) as full_name\\\n",
    "    from original\\\n",
    "    where gender = \"Male\"')\n",
    "query_2.show()"
   ]
  },
  {
   "cell_type": "code",
   "execution_count": 32,
   "id": "8d009a82-2639-46f5-915d-0cee98dc2c16",
   "metadata": {},
   "outputs": [
    {
     "name": "stdout",
     "output_type": "stream",
     "text": [
      "+---+----------+----------+------+-------------+--------------------+---------+----------+----------+------------+\n",
      "| id|first_name| last_name|gender|         City|            JobTitle|   Salary|  Latitude| Longitude|clean_salary|\n",
      "+---+----------+----------+------+-------------+--------------------+---------+----------+----------+------------+\n",
      "|  1|   Melinde| Shilburne|Female|    Nowa Ruda| Assistant Professor|$57438.18|50.5774075| 16.496717|    57438.18|\n",
      "|  2|  Kimberly|Von Welden|Female|       Bulgan|       Programmer II|$62846.60|48.8231572| 103.52182|     62846.6|\n",
      "|  3|    Alvera|  Di Boldi|Female|         NULL|                NULL|$57576.52|39.9947462|116.339775|    57576.52|\n",
      "|  4|   Shannon| O'Griffin|  Male|Divnomorskoye|Budget/Accounting...|$61489.23|44.5047212| 38.130016|    61489.23|\n",
      "|  5|  Sherwood|   Macieja|  Male|    Mytishchi|            VP Sales|$63863.09|      NULL| 37.648994|    63863.09|\n",
      "+---+----------+----------+------+-------------+--------------------+---------+----------+----------+------------+\n",
      "only showing top 5 rows\n",
      "\n"
     ]
    }
   ],
   "source": [
    "#removing $-sign from 'Salary' column and creating a new column\n",
    "df2_clean_salary = df2.withColumn(\"clean_salary\", df2.Salary.substr(2, 100).cast('float'))\n",
    "df2_clean_salary.show(5)"
   ]
  },
  {
   "cell_type": "code",
   "execution_count": 33,
   "id": "22a1c84d-1243-4221-96d4-36b5c832a5bc",
   "metadata": {},
   "outputs": [
    {
     "name": "stdout",
     "output_type": "stream",
     "text": [
      "+---+----------+----------+------+---------------+--------------------+---------+----------+----------+------------+------------------+\n",
      "| id|first_name| last_name|gender|           City|            JobTitle|   Salary|  Latitude| Longitude|clean_salary|    monthly_salary|\n",
      "+---+----------+----------+------+---------------+--------------------+---------+----------+----------+------------+------------------+\n",
      "|  1|   Melinde| Shilburne|Female|      Nowa Ruda| Assistant Professor|$57438.18|50.5774075| 16.496717|    57438.18| 4786.514973958333|\n",
      "|  2|  Kimberly|Von Welden|Female|         Bulgan|       Programmer II|$62846.60|48.8231572| 103.52182|     62846.6|    5237.216796875|\n",
      "|  3|    Alvera|  Di Boldi|Female|           NULL|                NULL|$57576.52|39.9947462|116.339775|    57576.52| 4798.043294270833|\n",
      "|  4|   Shannon| O'Griffin|  Male|  Divnomorskoye|Budget/Accounting...|$61489.23|44.5047212| 38.130016|    61489.23|   5124.1025390625|\n",
      "|  5|  Sherwood|   Macieja|  Male|      Mytishchi|            VP Sales|$63863.09|      NULL| 37.648994|    63863.09| 5321.924153645833|\n",
      "|  6|     Maris|      Folk|Female|Kinsealy-Drinan|      Civil Engineer|$30101.16|53.4266145|-6.1644998|    30101.16|2508.4300130208335|\n",
      "|  7|     Masha|    Divers|Female|         Dachun|                NULL|$25090.87| 24.879416|118.930115|    25090.87|  2090.90576171875|\n",
      "|  8|   Goddart|     Flear|  Male|      Trélissac|Desktop Support T...|$46116.36|45.1905186| 0.7423124|    46116.36|3843.0299479166665|\n",
      "|  9|      Roth|O'Cannavan|  Male|         Heitan|VP Product Manage...|$73697.10| 32.027934| 106.65711|     73697.1| 6141.425130208333|\n",
      "| 10|      Bran|   Trahear|  Male|       Arbeláez|Mechanical System...|$68098.42|  4.272793|-74.416016|    68098.42| 5674.868489583333|\n",
      "| 11|    Kylynn|   Lockart|Female|       El Cardo|Nuclear Power Eng...|$13604.63|     -5.85| -79.88333|    13604.63|1133.7191569010417|\n",
      "| 12|       Rey|    Meharg|Female|    Wangqingtuo|Systems Administr...|$73423.70| 39.172378| 116.93161|     73423.7| 6118.641927083333|\n",
      "| 13|      Kerr|    Braden|  Male|      Sułkowice|Compensation Analyst|$33432.99|49.8151822| 19.377174|    33432.99|2786.0823567708335|\n",
      "| 14|    Mickie| Whanstall|  Male|    Springfield|Assistant Media P...|$50838.53|42.1014803|-72.576675|    50838.53| 4236.544270833333|\n",
      "| 15|    Kaspar|     Pally|  Male|         Chrást|  Analyst Programmer|$40163.03|49.7923299| 13.491532|    40163.03|3346.9192708333335|\n",
      "| 16|    Norbie|    Gwyllt|  Male|         Xijiao|              Editor|$32492.73|43.4945737|  5.897802|    32492.73|   2707.7275390625|\n",
      "| 17|    Claude|    Briant|Female|      Mieścisko|Research Assistan...|$51862.48|52.7441662| 17.327864|    51862.48| 4321.873372395833|\n",
      "| 18|     Thain|    Habbon|  Male| Foros do Trapo|     Design Engineer|$42135.67| 38.696249| -8.709834|    42135.67|3511.3059895833335|\n",
      "| 19|  Tiffanie|  Pattison|Female|    Jabungsisir|Senior Financial ...|$91925.08|-7.7232567| 113.46868|    91925.08| 7660.423177083333|\n",
      "| 20|    Ettore|  Gerriets|  Male|          Pedra| Staff Accountant IV|$73921.33|40.7172049|-8.3625145|    73921.33| 6160.110677083333|\n",
      "+---+----------+----------+------+---------------+--------------------+---------+----------+----------+------------+------------------+\n",
      "only showing top 20 rows\n",
      "\n"
     ]
    }
   ],
   "source": [
    "#creating a new column for 'monthly_salary'\n",
    "df2_monthly_salary = df2_clean_salary.withColumn('monthly_salary', df2_clean_salary.clean_salary/12)\n",
    "df2_monthly_salary.show()"
   ]
  },
  {
   "cell_type": "code",
   "execution_count": 34,
   "id": "c77c0317-87a2-407f-b196-aef70ee5d2c7",
   "metadata": {},
   "outputs": [
    {
     "name": "stdout",
     "output_type": "stream",
     "text": [
      "+---+----------+----------+------+---------------+--------------------+---------+----------+----------+----------------+\n",
      "| id|first_name| last_name|gender|           City|            JobTitle|   Salary|  Latitude| Longitude|are_they_female?|\n",
      "+---+----------+----------+------+---------------+--------------------+---------+----------+----------+----------------+\n",
      "|  1|   Melinde| Shilburne|Female|      Nowa Ruda| Assistant Professor|$57438.18|50.5774075| 16.496717|             Yes|\n",
      "|  2|  Kimberly|Von Welden|Female|         Bulgan|       Programmer II|$62846.60|48.8231572| 103.52182|             Yes|\n",
      "|  3|    Alvera|  Di Boldi|Female|           NULL|                NULL|$57576.52|39.9947462|116.339775|             Yes|\n",
      "|  4|   Shannon| O'Griffin|  Male|  Divnomorskoye|Budget/Accounting...|$61489.23|44.5047212| 38.130016|              No|\n",
      "|  5|  Sherwood|   Macieja|  Male|      Mytishchi|            VP Sales|$63863.09|      NULL| 37.648994|              No|\n",
      "|  6|     Maris|      Folk|Female|Kinsealy-Drinan|      Civil Engineer|$30101.16|53.4266145|-6.1644998|             Yes|\n",
      "|  7|     Masha|    Divers|Female|         Dachun|                NULL|$25090.87| 24.879416|118.930115|             Yes|\n",
      "|  8|   Goddart|     Flear|  Male|      Trélissac|Desktop Support T...|$46116.36|45.1905186| 0.7423124|              No|\n",
      "|  9|      Roth|O'Cannavan|  Male|         Heitan|VP Product Manage...|$73697.10| 32.027934| 106.65711|              No|\n",
      "| 10|      Bran|   Trahear|  Male|       Arbeláez|Mechanical System...|$68098.42|  4.272793|-74.416016|              No|\n",
      "+---+----------+----------+------+---------------+--------------------+---------+----------+----------+----------------+\n",
      "only showing top 10 rows\n",
      "\n"
     ]
    }
   ],
   "source": [
    "#creating a new column 'are_they_female?'\n",
    "df2_are_female = df2.withColumn(\"are_they_female?\", when(df2.gender == \"Female\", \"Yes\").otherwise(\"No\"))\n",
    "df2_are_female.show(10)"
   ]
  },
  {
   "cell_type": "code",
   "execution_count": 35,
   "id": "6e76f556-5fe6-4052-bb93-7d2e965e227c",
   "metadata": {},
   "outputs": [
    {
     "name": "stdout",
     "output_type": "stream",
     "text": [
      "+---+----------+----------+------+---------------+--------------------+---------+----------+----------+--------------+\n",
      "| id|first_name| last_name|gender|           City|            JobTitle|   Salary|  Latitude| Longitude|are_they_male?|\n",
      "+---+----------+----------+------+---------------+--------------------+---------+----------+----------+--------------+\n",
      "|  1|   Melinde| Shilburne|Female|      Nowa Ruda| Assistant Professor|$57438.18|50.5774075| 16.496717|            No|\n",
      "|  2|  Kimberly|Von Welden|Female|         Bulgan|       Programmer II|$62846.60|48.8231572| 103.52182|            No|\n",
      "|  3|    Alvera|  Di Boldi|Female|           NULL|                NULL|$57576.52|39.9947462|116.339775|            No|\n",
      "|  4|   Shannon| O'Griffin|  Male|  Divnomorskoye|Budget/Accounting...|$61489.23|44.5047212| 38.130016|           Yes|\n",
      "|  5|  Sherwood|   Macieja|  Male|      Mytishchi|            VP Sales|$63863.09|      NULL| 37.648994|           Yes|\n",
      "|  6|     Maris|      Folk|Female|Kinsealy-Drinan|      Civil Engineer|$30101.16|53.4266145|-6.1644998|            No|\n",
      "|  7|     Masha|    Divers|Female|         Dachun|                NULL|$25090.87| 24.879416|118.930115|            No|\n",
      "|  8|   Goddart|     Flear|  Male|      Trélissac|Desktop Support T...|$46116.36|45.1905186| 0.7423124|           Yes|\n",
      "|  9|      Roth|O'Cannavan|  Male|         Heitan|VP Product Manage...|$73697.10| 32.027934| 106.65711|           Yes|\n",
      "| 10|      Bran|   Trahear|  Male|       Arbeláez|Mechanical System...|$68098.42|  4.272793|-74.416016|           Yes|\n",
      "+---+----------+----------+------+---------------+--------------------+---------+----------+----------+--------------+\n",
      "only showing top 10 rows\n",
      "\n"
     ]
    }
   ],
   "source": [
    "#creating a new column 'are_they_male?'\n",
    "df2_are_male = df2.withColumn(\"are_they_male?\", when(df2.gender == \"Male\", \"Yes\").otherwise(\"No\"))\n",
    "df2_are_male.show(10)"
   ]
  },
  {
   "cell_type": "code",
   "execution_count": 36,
   "id": "dc86f4cc-d566-4c6e-a7fb-2977bb3598cb",
   "metadata": {},
   "outputs": [
    {
     "name": "stdout",
     "output_type": "stream",
     "text": [
      "+---+----------+----------+------+---------------+--------------------+---------+----------+----------+------------+\n",
      "| id|first_name| last_name|gender|           City|            JobTitle|   Salary|  Latitude| Longitude|clean_salary|\n",
      "+---+----------+----------+------+---------------+--------------------+---------+----------+----------+------------+\n",
      "|  1|   Melinde| Shilburne|Female|      Nowa Ruda| Assistant Professor|$57438.18|50.5774075| 16.496717|    57438.18|\n",
      "|  2|  Kimberly|Von Welden|Female|         Bulgan|       Programmer II|$62846.60|48.8231572| 103.52182|     62846.6|\n",
      "|  3|    Alvera|  Di Boldi|Female|           NULL|                NULL|$57576.52|39.9947462|116.339775|    57576.52|\n",
      "|  4|   Shannon| O'Griffin|  Male|  Divnomorskoye|Budget/Accounting...|$61489.23|44.5047212| 38.130016|    61489.23|\n",
      "|  5|  Sherwood|   Macieja|  Male|      Mytishchi|            VP Sales|$63863.09|      NULL| 37.648994|    63863.09|\n",
      "|  6|     Maris|      Folk|Female|Kinsealy-Drinan|      Civil Engineer|$30101.16|53.4266145|-6.1644998|    30101.16|\n",
      "|  7|     Masha|    Divers|Female|         Dachun|                NULL|$25090.87| 24.879416|118.930115|    25090.87|\n",
      "|  8|   Goddart|     Flear|  Male|      Trélissac|Desktop Support T...|$46116.36|45.1905186| 0.7423124|    46116.36|\n",
      "|  9|      Roth|O'Cannavan|  Male|         Heitan|VP Product Manage...|$73697.10| 32.027934| 106.65711|     73697.1|\n",
      "| 10|      Bran|   Trahear|  Male|       Arbeláez|Mechanical System...|$68098.42|  4.272793|-74.416016|    68098.42|\n",
      "+---+----------+----------+------+---------------+--------------------+---------+----------+----------+------------+\n",
      "only showing top 10 rows\n",
      "\n"
     ]
    }
   ],
   "source": [
    "#creating a new column 'clean_salary' by removing $-sign from 'Salary' column\n",
    "df2 = df2.withColumn(\"clean_salary\", df2.Salary.substr(2, 100).cast(\"float\"))\n",
    "df2.show(10)"
   ]
  },
  {
   "cell_type": "code",
   "execution_count": 37,
   "id": "14d8e4cf-0618-4cce-b227-c829aaba5346",
   "metadata": {},
   "outputs": [
    {
     "name": "stdout",
     "output_type": "stream",
     "text": [
      "+------+--------------------+\n",
      "|gender|        total_salary|\n",
      "+------+--------------------+\n",
      "|Female|2.7364519950195312E7|\n",
      "|  Male|2.8123435678710938E7|\n",
      "+------+--------------------+\n",
      "\n"
     ]
    }
   ],
   "source": [
    "#applying 'groupby' condition for gender-wise total_salary\n",
    "import pyspark.sql.functions as sqlfunc\n",
    "df2_groupby = df2.groupby(\"gender\").agg(sqlfunc.sum(df2.clean_salary).alias(\"total_salary\"))\n",
    "df2_groupby.show()"
   ]
  },
  {
   "cell_type": "code",
   "execution_count": 38,
   "id": "daf01858-0da7-4402-a2cd-983338f40b18",
   "metadata": {},
   "outputs": [
    {
     "name": "stdout",
     "output_type": "stream",
     "text": [
      "+------+--------------------+-----------------+----------+----------+\n",
      "|gender|        total_salary|       avg_salary|min_salary|max_salary|\n",
      "+------+--------------------+-----------------+----------+----------+\n",
      "|Female|2.7364519950195312E7|55618.94298820185|  10616.44|  99948.28|\n",
      "|  Male|2.8123435678710938E7|55361.09385573019|  10101.92|  99942.92|\n",
      "+------+--------------------+-----------------+----------+----------+\n",
      "\n"
     ]
    }
   ],
   "source": [
    "#applying 'groupby' condition for gender-wise total_salary, average_salary, min_salary and max_salary\n",
    "df2_groupby_additional = df2.groupby(\"gender\").agg(sqlfunc.sum(df2.clean_salary).alias(\"total_salary\"),\n",
    "                                                   sqlfunc.avg(df2.clean_salary).alias(\"avg_salary\"),\n",
    "                                                   sqlfunc.min(df2.clean_salary).alias(\"min_salary\"),\n",
    "                                                   sqlfunc.max(df2.clean_salary).alias(\"max_salary\"))\n",
    "df2_groupby_additional.show()"
   ]
  },
  {
   "cell_type": "code",
   "execution_count": 39,
   "id": "5f609316-37de-43e1-a29c-73755ba72f6c",
   "metadata": {},
   "outputs": [
    {
     "name": "stdout",
     "output_type": "stream",
     "text": [
      "+------+-----------------+----------------+----------------+----------+----------+\n",
      "|gender|             City|    total_salary|      avg_salary|min_salary|max_salary|\n",
      "+------+-----------------+----------------+----------------+----------+----------+\n",
      "|Female|           Dachun| 25090.869140625| 25090.869140625|  25090.87|  25090.87|\n",
      "|Female|      Trollhättan|106623.369140625|53311.6845703125|  26830.47|   79792.9|\n",
      "|  Male|          Wenshao| 18941.509765625| 18941.509765625|  18941.51|  18941.51|\n",
      "|Female|            Lanas| 13765.900390625| 13765.900390625|   13765.9|   13765.9|\n",
      "|  Male|            Mörön|    77940.078125|    77940.078125|  77940.08|  77940.08|\n",
      "|Female|             Same|   73369.7265625|   73369.7265625|  73369.73|  73369.73|\n",
      "|Female|          Sawahan|  24608.83984375|  24608.83984375|  24608.84|  24608.84|\n",
      "|  Male|Monte da Boavista|     98586.71875|     98586.71875|  98586.72|  98586.72|\n",
      "|Female|         Nusajaya|    71637.921875|    71637.921875|  71637.92|  71637.92|\n",
      "|Female|            Kista|   96192.3984375|   96192.3984375|   96192.4|   96192.4|\n",
      "|  Male|       Pittsburgh|    83121.890625|    83121.890625|  83121.89|  83121.89|\n",
      "|  Male|       Neftegorsk|     97531.46875|     97531.46875|  97531.47|  97531.47|\n",
      "|Female|          Yanaoca|     54906.21875|     54906.21875|  54906.22|  54906.22|\n",
      "|  Male|            Tambo|  40264.91015625|  40264.91015625|  40264.91|  40264.91|\n",
      "|  Male|        Mytishchi|  63863.08984375|  63863.08984375|  63863.09|  63863.09|\n",
      "|  Male|            Pedra|    73921.328125|    73921.328125|  73921.33|  73921.33|\n",
      "|Female|            Dhaka|    68368.546875|    68368.546875|  68368.55|  68368.55|\n",
      "|  Male|        Mosteiros|  62508.87109375|  62508.87109375|  62508.87|  62508.87|\n",
      "|  Male|           Roanne|   93339.9921875|   93339.9921875|  93339.99|  93339.99|\n",
      "|Female|        Eindhoven| 24042.099609375| 24042.099609375|   24042.1|   24042.1|\n",
      "+------+-----------------+----------------+----------------+----------+----------+\n",
      "only showing top 20 rows\n",
      "\n"
     ]
    }
   ],
   "source": [
    "#applying 'groupby' condition for gender-wise and city-wise total_salary, average_salary, min_salary and max_salary\n",
    "df2_groupby_additional_1 = df2.groupby(\"gender\", \"City\").agg(sqlfunc.sum(df2.clean_salary).alias(\"total_salary\"),\n",
    "                                                   sqlfunc.avg(df2.clean_salary).alias(\"avg_salary\"),\n",
    "                                                   sqlfunc.min(df2.clean_salary).alias(\"min_salary\"),\n",
    "                                                   sqlfunc.max(df2.clean_salary).alias(\"max_salary\"))\n",
    "df2_groupby_additional_1.show()"
   ]
  }
 ],
 "metadata": {
  "kernelspec": {
   "display_name": "Python 3 (ipykernel)",
   "language": "python",
   "name": "python3"
  },
  "language_info": {
   "codemirror_mode": {
    "name": "ipython",
    "version": 3
   },
   "file_extension": ".py",
   "mimetype": "text/x-python",
   "name": "python",
   "nbconvert_exporter": "python",
   "pygments_lexer": "ipython3",
   "version": "3.10.11"
  }
 },
 "nbformat": 4,
 "nbformat_minor": 5
}
