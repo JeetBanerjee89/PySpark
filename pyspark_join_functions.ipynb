{
 "cells": [
  {
   "cell_type": "code",
   "execution_count": 1,
   "id": "b5c5ffea-cd48-46df-aef7-a76d3cb772d8",
   "metadata": {},
   "outputs": [],
   "source": [
    "# pyspark initialization\n",
    "import findspark\n",
    "findspark.init()"
   ]
  },
  {
   "cell_type": "code",
   "execution_count": 2,
   "id": "8360672d-0e29-4836-9c04-3aabbe85c076",
   "metadata": {},
   "outputs": [],
   "source": [
    "#building sparksession\n",
    "import pyspark\n",
    "from pyspark.sql import SparkSession\n",
    "spark = SparkSession.builder.master(\"local[*]\").getOrCreate()"
   ]
  },
  {
   "cell_type": "code",
   "execution_count": 3,
   "id": "523717f1-6fa4-49a7-93c6-41ca517acb69",
   "metadata": {},
   "outputs": [
    {
     "name": "stdout",
     "output_type": "stream",
     "text": [
      "+---+-------+---------+\n",
      "| ID|   NAME|  Company|\n",
      "+---+-------+---------+\n",
      "|  1| sravan|company 1|\n",
      "|  2| ojaswi|company 1|\n",
      "|  3| rohith|company 2|\n",
      "|  4|sridevi|company 1|\n",
      "|  5|  bobby|company 1|\n",
      "+---+-------+---------+\n",
      "\n"
     ]
    }
   ],
   "source": [
    "#dataframe_1\n",
    "data_1 = [[\"1\", \"sravan\", \"company 1\"], \n",
    "        [\"2\", \"ojaswi\", \"company 1\"],  \n",
    "        [\"3\", \"rohith\", \"company 2\"], \n",
    "        [\"4\", \"sridevi\", \"company 1\"],  \n",
    "        [\"5\", \"bobby\", \"company 1\"]] \n",
    "columns_1 = ['ID', 'NAME', 'Company']\n",
    "dataframe_1 = spark.createDataFrame(data_1, columns_1)\n",
    "dataframe_1.show()"
   ]
  },
  {
   "cell_type": "code",
   "execution_count": 4,
   "id": "cea636fd-1e0a-4ad1-8f77-49cade333f5e",
   "metadata": {},
   "outputs": [
    {
     "name": "stdout",
     "output_type": "stream",
     "text": [
      "+---+------+----------+\n",
      "| ID|salary|department|\n",
      "+---+------+----------+\n",
      "|  1| 45000|        IT|\n",
      "|  2|145000|   Manager|\n",
      "|  6| 45000|        HR|\n",
      "|  5| 34000|     Sales|\n",
      "+---+------+----------+\n",
      "\n"
     ]
    }
   ],
   "source": [
    "#dataframe_2\n",
    "data_2 = [[\"1\", \"45000\", \"IT\"], \n",
    "         [\"2\", \"145000\", \"Manager\"], \n",
    "         [\"6\", \"45000\", \"HR\"], \n",
    "         [\"5\", \"34000\", \"Sales\"]] \n",
    "columns_2 = ['ID', 'salary', 'department'] \n",
    "dataframe_2= spark.createDataFrame(data_2, columns_2) \n",
    "dataframe_2.show() "
   ]
  },
  {
   "cell_type": "code",
   "execution_count": 5,
   "id": "3701017c-ca4f-4cb8-b8f3-1c9b8c7670a5",
   "metadata": {},
   "outputs": [
    {
     "name": "stdout",
     "output_type": "stream",
     "text": [
      "+---+------+---------+---+------+----------+\n",
      "| ID|  NAME|  Company| ID|salary|department|\n",
      "+---+------+---------+---+------+----------+\n",
      "|  1|sravan|company 1|  1| 45000|        IT|\n",
      "|  2|ojaswi|company 1|  2|145000|   Manager|\n",
      "|  5| bobby|company 1|  5| 34000|     Sales|\n",
      "+---+------+---------+---+------+----------+\n",
      "\n"
     ]
    }
   ],
   "source": [
    "#inner join of two dataframes (only matching rows)\n",
    "dataframe_1.join(dataframe_2, dataframe_1.ID == dataframe_2.ID, \"inner\").show()"
   ]
  },
  {
   "cell_type": "code",
   "execution_count": 6,
   "id": "3618827e-d82e-405f-a947-ac204a675d6b",
   "metadata": {},
   "outputs": [
    {
     "name": "stdout",
     "output_type": "stream",
     "text": [
      "+----+-------+---------+----+------+----------+\n",
      "|  ID|   NAME|  Company|  ID|salary|department|\n",
      "+----+-------+---------+----+------+----------+\n",
      "|   1| sravan|company 1|   1| 45000|        IT|\n",
      "|   2| ojaswi|company 1|   2|145000|   Manager|\n",
      "|   3| rohith|company 2|NULL|  NULL|      NULL|\n",
      "|   4|sridevi|company 1|NULL|  NULL|      NULL|\n",
      "|   5|  bobby|company 1|   5| 34000|     Sales|\n",
      "|NULL|   NULL|     NULL|   6| 45000|        HR|\n",
      "+----+-------+---------+----+------+----------+\n",
      "\n",
      "+----+-------+---------+----+------+----------+\n",
      "|  ID|   NAME|  Company|  ID|salary|department|\n",
      "+----+-------+---------+----+------+----------+\n",
      "|   1| sravan|company 1|   1| 45000|        IT|\n",
      "|   2| ojaswi|company 1|   2|145000|   Manager|\n",
      "|   3| rohith|company 2|NULL|  NULL|      NULL|\n",
      "|   4|sridevi|company 1|NULL|  NULL|      NULL|\n",
      "|   5|  bobby|company 1|   5| 34000|     Sales|\n",
      "|NULL|   NULL|     NULL|   6| 45000|        HR|\n",
      "+----+-------+---------+----+------+----------+\n",
      "\n",
      "+----+-------+---------+----+------+----------+\n",
      "|  ID|   NAME|  Company|  ID|salary|department|\n",
      "+----+-------+---------+----+------+----------+\n",
      "|   1| sravan|company 1|   1| 45000|        IT|\n",
      "|   2| ojaswi|company 1|   2|145000|   Manager|\n",
      "|   3| rohith|company 2|NULL|  NULL|      NULL|\n",
      "|   4|sridevi|company 1|NULL|  NULL|      NULL|\n",
      "|   5|  bobby|company 1|   5| 34000|     Sales|\n",
      "|NULL|   NULL|     NULL|   6| 45000|        HR|\n",
      "+----+-------+---------+----+------+----------+\n",
      "\n"
     ]
    }
   ],
   "source": [
    "#full outer join of two dataframes (both matching and non-matching rows)\n",
    "dataframe_1.join(dataframe_2, dataframe_1.ID == dataframe_2.ID, \"outer\").show()\n",
    "dataframe_1.join(dataframe_2, dataframe_1.ID == dataframe_2.ID, \"full\").show()\n",
    "dataframe_1.join(dataframe_2, dataframe_1.ID == dataframe_2.ID, \"fullouter\").show()"
   ]
  },
  {
   "cell_type": "code",
   "execution_count": 7,
   "id": "b3c4a7a8-fed8-4fc4-91c4-9b60b0996157",
   "metadata": {},
   "outputs": [
    {
     "name": "stdout",
     "output_type": "stream",
     "text": [
      "+---+-------+---------+----+------+----------+\n",
      "| ID|   NAME|  Company|  ID|salary|department|\n",
      "+---+-------+---------+----+------+----------+\n",
      "|  1| sravan|company 1|   1| 45000|        IT|\n",
      "|  2| ojaswi|company 1|   2|145000|   Manager|\n",
      "|  3| rohith|company 2|NULL|  NULL|      NULL|\n",
      "|  4|sridevi|company 1|NULL|  NULL|      NULL|\n",
      "|  5|  bobby|company 1|   5| 34000|     Sales|\n",
      "+---+-------+---------+----+------+----------+\n",
      "\n",
      "+---+-------+---------+----+------+----------+\n",
      "| ID|   NAME|  Company|  ID|salary|department|\n",
      "+---+-------+---------+----+------+----------+\n",
      "|  1| sravan|company 1|   1| 45000|        IT|\n",
      "|  2| ojaswi|company 1|   2|145000|   Manager|\n",
      "|  3| rohith|company 2|NULL|  NULL|      NULL|\n",
      "|  4|sridevi|company 1|NULL|  NULL|      NULL|\n",
      "|  5|  bobby|company 1|   5| 34000|     Sales|\n",
      "+---+-------+---------+----+------+----------+\n",
      "\n"
     ]
    }
   ],
   "source": [
    "#left join of two dataframes\n",
    "# returning all rows from the first dataframe and only matched rows from the second dataframe with respect to the first dataframe\n",
    "dataframe_1.join(dataframe_2, dataframe_1.ID == dataframe_2.ID, \"left\").show()\n",
    "dataframe_1.join(dataframe_2, dataframe_1.ID == dataframe_2.ID, \"leftouter\").show()"
   ]
  },
  {
   "cell_type": "code",
   "execution_count": 8,
   "id": "93346c1e-146b-4852-8ef6-ac89f8a525f0",
   "metadata": {},
   "outputs": [
    {
     "name": "stdout",
     "output_type": "stream",
     "text": [
      "+----+------+---------+---+------+----------+\n",
      "|  ID|  NAME|  Company| ID|salary|department|\n",
      "+----+------+---------+---+------+----------+\n",
      "|   1|sravan|company 1|  1| 45000|        IT|\n",
      "|   2|ojaswi|company 1|  2|145000|   Manager|\n",
      "|NULL|  NULL|     NULL|  6| 45000|        HR|\n",
      "|   5| bobby|company 1|  5| 34000|     Sales|\n",
      "+----+------+---------+---+------+----------+\n",
      "\n",
      "+----+------+---------+---+------+----------+\n",
      "|  ID|  NAME|  Company| ID|salary|department|\n",
      "+----+------+---------+---+------+----------+\n",
      "|   1|sravan|company 1|  1| 45000|        IT|\n",
      "|   2|ojaswi|company 1|  2|145000|   Manager|\n",
      "|NULL|  NULL|     NULL|  6| 45000|        HR|\n",
      "|   5| bobby|company 1|  5| 34000|     Sales|\n",
      "+----+------+---------+---+------+----------+\n",
      "\n"
     ]
    }
   ],
   "source": [
    "#right join of two dataframes\n",
    "# returning all rows from the second dataframe and only matched rows from the first dataframe with respect to the second dataframe\n",
    "dataframe_1.join(dataframe_2, dataframe_1.ID == dataframe_2.ID, \"right\").show()\n",
    "dataframe_1.join(dataframe_2, dataframe_1.ID == dataframe_2.ID, \"rightouter\").show()"
   ]
  },
  {
   "cell_type": "code",
   "execution_count": 9,
   "id": "a10d87e7-521b-4e89-a1ef-d8665d643f08",
   "metadata": {},
   "outputs": [
    {
     "name": "stdout",
     "output_type": "stream",
     "text": [
      "+---+------+---------+\n",
      "| ID|  NAME|  Company|\n",
      "+---+------+---------+\n",
      "|  1|sravan|company 1|\n",
      "|  2|ojaswi|company 1|\n",
      "|  5| bobby|company 1|\n",
      "+---+------+---------+\n",
      "\n"
     ]
    }
   ],
   "source": [
    "#leftsemi join of two dataframes\n",
    "# returns only those rows from first dataframe for which there are match in second dataframe\n",
    "dataframe_1.join(dataframe_2, dataframe_1.ID == dataframe_2.ID, \"leftsemi\").show()"
   ]
  },
  {
   "cell_type": "code",
   "execution_count": 10,
   "id": "c84e1a2b-763c-4045-a4a5-d6a5e2979e65",
   "metadata": {},
   "outputs": [
    {
     "name": "stdout",
     "output_type": "stream",
     "text": [
      "+---+-------+---------+\n",
      "| ID|   NAME|  Company|\n",
      "+---+-------+---------+\n",
      "|  3| rohith|company 2|\n",
      "|  4|sridevi|company 1|\n",
      "+---+-------+---------+\n",
      "\n"
     ]
    }
   ],
   "source": [
    "#leftanti join of two dataframes\n",
    "# returns only those rows from first dataframe for which there are mismatch in second dataframe\n",
    "dataframe_1.join(dataframe_2, dataframe_1.ID == dataframe_2.ID, \"leftanti\").show()"
   ]
  },
  {
   "cell_type": "code",
   "execution_count": 11,
   "id": "3bb7db52-2406-4078-baea-53ac92d2597c",
   "metadata": {},
   "outputs": [
    {
     "name": "stdout",
     "output_type": "stream",
     "text": [
      "+---+-------+---------+---+------+----------+\n",
      "| ID|   NAME|  Company| ID|salary|department|\n",
      "+---+-------+---------+---+------+----------+\n",
      "|  1| sravan|company 1|  1| 45000|        IT|\n",
      "|  1| sravan|company 1|  2|145000|   Manager|\n",
      "|  1| sravan|company 1|  6| 45000|        HR|\n",
      "|  1| sravan|company 1|  5| 34000|     Sales|\n",
      "|  2| ojaswi|company 1|  1| 45000|        IT|\n",
      "|  2| ojaswi|company 1|  2|145000|   Manager|\n",
      "|  2| ojaswi|company 1|  6| 45000|        HR|\n",
      "|  2| ojaswi|company 1|  5| 34000|     Sales|\n",
      "|  3| rohith|company 2|  1| 45000|        IT|\n",
      "|  3| rohith|company 2|  2|145000|   Manager|\n",
      "|  3| rohith|company 2|  6| 45000|        HR|\n",
      "|  3| rohith|company 2|  5| 34000|     Sales|\n",
      "|  4|sridevi|company 1|  1| 45000|        IT|\n",
      "|  4|sridevi|company 1|  2|145000|   Manager|\n",
      "|  4|sridevi|company 1|  6| 45000|        HR|\n",
      "|  4|sridevi|company 1|  5| 34000|     Sales|\n",
      "|  5|  bobby|company 1|  1| 45000|        IT|\n",
      "|  5|  bobby|company 1|  2|145000|   Manager|\n",
      "|  5|  bobby|company 1|  6| 45000|        HR|\n",
      "|  5|  bobby|company 1|  5| 34000|     Sales|\n",
      "+---+-------+---------+---+------+----------+\n",
      "\n"
     ]
    }
   ],
   "source": [
    "# cross join of two dataframes\n",
    "# returns Cartesian product of two DataFrames\n",
    "# combines every row from the first DataFrame with every row from the second DataFrame, resulting in a large, unfiltered result\n",
    "dataframe_1.crossJoin(dataframe_2).show()"
   ]
  }
 ],
 "metadata": {
  "kernelspec": {
   "display_name": "Python 3 (ipykernel)",
   "language": "python",
   "name": "python3"
  },
  "language_info": {
   "codemirror_mode": {
    "name": "ipython",
    "version": 3
   },
   "file_extension": ".py",
   "mimetype": "text/x-python",
   "name": "python",
   "nbconvert_exporter": "python",
   "pygments_lexer": "ipython3",
   "version": "3.10.11"
  }
 },
 "nbformat": 4,
 "nbformat_minor": 5
}
