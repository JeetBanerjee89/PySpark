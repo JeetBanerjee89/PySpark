{
 "cells": [
  {
   "cell_type": "code",
   "execution_count": 1,
   "id": "6c40f889-0e89-4a56-a35a-8b7b32725928",
   "metadata": {},
   "outputs": [],
   "source": [
    "#initializing pyspark\n",
    "import findspark\n",
    "findspark.init()"
   ]
  },
  {
   "cell_type": "code",
   "execution_count": 2,
   "id": "c1a00afc-6daa-4a65-906e-9e0fcde24671",
   "metadata": {},
   "outputs": [
    {
     "data": {
      "text/html": [
       "\n",
       "            <div>\n",
       "                <p><b>SparkSession - in-memory</b></p>\n",
       "                \n",
       "        <div>\n",
       "            <p><b>SparkContext</b></p>\n",
       "\n",
       "            <p><a href=\"http://LIN-5CG1349BDL.corp.capgemini.com:4047\">Spark UI</a></p>\n",
       "\n",
       "            <dl>\n",
       "              <dt>Version</dt>\n",
       "                <dd><code>v3.5.4</code></dd>\n",
       "              <dt>Master</dt>\n",
       "                <dd><code>local[*]</code></dd>\n",
       "              <dt>AppName</dt>\n",
       "                <dd><code>pyspark-shell</code></dd>\n",
       "            </dl>\n",
       "        </div>\n",
       "        \n",
       "            </div>\n",
       "        "
      ],
      "text/plain": [
       "<pyspark.sql.session.SparkSession at 0x2b140b6cdc0>"
      ]
     },
     "execution_count": 2,
     "metadata": {},
     "output_type": "execute_result"
    }
   ],
   "source": [
    "#building sparksession\n",
    "import pyspark\n",
    "import pyspark.sql.functions as sqlfunc\n",
    "from pyspark.sql import SparkSession\n",
    "spark = SparkSession.builder.master(\"local[*]\").getOrCreate()\n",
    "spark"
   ]
  },
  {
   "cell_type": "code",
   "execution_count": 3,
   "id": "a8358df5-0ab5-4c56-8d5f-db7e3d608786",
   "metadata": {},
   "outputs": [
    {
     "name": "stdout",
     "output_type": "stream",
     "text": [
      "+--------------+---------+----------------+----------+\n",
      "|    ip_address|  Country|     Domain Name|Bytes_used|\n",
      "+--------------+---------+----------------+----------+\n",
      "| 52.81.192.172|    China|odnoklassniki.ru|       463|\n",
      "|119.239.207.13|    China|        youtu.be|        51|\n",
      "| 68.69.217.210|    China|       adobe.com|        10|\n",
      "|  7.191.21.223| Bulgaria|    linkedin.com|       853|\n",
      "|  211.13.10.68|Indonesia|         hud.gov|        29|\n",
      "+--------------+---------+----------------+----------+\n",
      "only showing top 5 rows\n",
      "\n"
     ]
    }
   ],
   "source": [
    "#reading CSV\n",
    "df = spark.read.csv(\"challenge.csv\", header = True)\n",
    "df.show(5)"
   ]
  },
  {
   "cell_type": "code",
   "execution_count": 4,
   "id": "667fa617-4b88-4c6c-adde-0ddd5d114fa6",
   "metadata": {},
   "outputs": [
    {
     "name": "stdout",
     "output_type": "stream",
     "text": [
      "+---------------+--------------------+--------------------+----------+------------------+\n",
      "|     ip_address|             Country|         Domain Name|Bytes_used|is_country_mexico?|\n",
      "+---------------+--------------------+--------------------+----------+------------------+\n",
      "|  52.81.192.172|               China|    odnoklassniki.ru|       463|                No|\n",
      "| 119.239.207.13|               China|            youtu.be|        51|                No|\n",
      "|  68.69.217.210|               China|           adobe.com|        10|                No|\n",
      "|   7.191.21.223|            Bulgaria|        linkedin.com|       853|                No|\n",
      "|   211.13.10.68|           Indonesia|             hud.gov|        29|                No|\n",
      "|   239.80.21.97|            Suriname|          smh.com.au|       218|                No|\n",
      "|106.214.106.233|             Jamaica|       amazonaws.com|        95|                No|\n",
      "| 127.242.24.138|               China|    surveymonkey.com|       123|                No|\n",
      "|     99.2.6.139|      Czech Republic|        geocities.jp|       322|                No|\n",
      "|   237.54.11.63|               China|          amazon.com|        83|                No|\n",
      "| 252.141.157.25|               Japan|         cornell.edu|       374|                No|\n",
      "|185.220.128.248|             Belgium|          weebly.com|       389|                No|\n",
      "|   151.77.19.45|         Afghanistan|   independent.co.uk|       282|                No|\n",
      "|  9.161.158.225|           Indonesia|       bloglines.com|       726|                No|\n",
      "| 156.144.61.155|      Czech Republic|      slideshare.net|       657|                No|\n",
      "|   8.96.188.151|           Indonesia|             ibm.com|       517|                No|\n",
      "|      5.72.7.65|              Mexico|            youtu.be|       877|               Yes|\n",
      "|227.110.112.144|             Croatia|            ehow.com|       287|                No|\n",
      "|    81.71.28.97|            Thailand|             last.fm|       588|                No|\n",
      "|  9.255.129.184|            Thailand|             mtv.com|       114|                No|\n",
      "| 209.166.62.189|           Indonesia|      cloudflare.com|       595|                No|\n",
      "| 35.116.221.230|              Russia|           skype.com|       960|                No|\n",
      "|  221.202.66.93|         Philippines|     list-manage.com|       570|                No|\n",
      "| 105.209.128.51|         Philippines|          tumblr.com|        16|                No|\n",
      "| 83.130.135.105|Palestinian Terri...|              i2i.jp|       222|                No|\n",
      "| 175.158.82.252|              Russia|           imgur.com|       492|                No|\n",
      "|  190.58.76.137|             Georgia|          forbes.com|       179|                No|\n",
      "|   6.151.24.157|              Brazil|             fda.gov|       681|                No|\n",
      "|169.165.144.192|            Portugal|       princeton.edu|       649|                No|\n",
      "| 239.27.149.214|               China|            youtu.be|       511|                No|\n",
      "|    50.14.182.7|           Indonesia|             npr.org|       276|                No|\n",
      "|  130.18.50.132|              Brazil|           alexa.com|       342|                No|\n",
      "|    80.54.8.201|              Canada|          unicef.org|       190|                No|\n",
      "| 239.234.39.166|              Russia|        stanford.edu|        79|                No|\n",
      "| 30.190.176.234|           Australia|           patch.com|       563|                No|\n",
      "| 143.198.140.99|              France|       cafepress.com|       968|                No|\n",
      "| 248.110.133.48|               China|             last.fm|       333|                No|\n",
      "| 35.104.255.113|                Laos|             nba.com|       707|                No|\n",
      "|    65.107.97.9|           Indonesia|        netvibes.com|       629|                No|\n",
      "|155.211.189.235|       United States|           globo.com|       967|                No|\n",
      "|    4.68.10.108|          Luxembourg|       google.com.br|       714|                No|\n",
      "|   6.36.158.229|              Poland|           desdev.cn|       951|                No|\n",
      "|     65.18.49.1|           Indonesia|            narod.ru|       728|                No|\n",
      "| 240.179.57.110|           Indonesia|        cbslocal.com|       496|                No|\n",
      "|225.156.236.187|               China|pagesperso-orange.fr|       797|                No|\n",
      "|  62.106.195.92|             Georgia|       wordpress.org|       545|                No|\n",
      "|   33.93.113.70|            Thailand|           goo.ne.jp|       527|                No|\n",
      "|253.251.243.161|               China|         harvard.edu|       607|                No|\n",
      "| 189.139.250.69|           Indonesia|       bloomberg.com|       742|                No|\n",
      "|  42.165.63.117|               China|          senate.gov|       679|                No|\n",
      "+---------------+--------------------+--------------------+----------+------------------+\n",
      "only showing top 50 rows\n",
      "\n"
     ]
    }
   ],
   "source": [
    "#creating a new column 'is_country_mexico?'\n",
    "from pyspark.sql.functions import *\n",
    "df_1 = df.withColumn(\"is_country_mexico?\", when(df.Country == \"Mexico\", \"Yes\").otherwise(\"No\"))\n",
    "df_1.show(50)"
   ]
  },
  {
   "cell_type": "code",
   "execution_count": 5,
   "id": "70ff66df-de5a-44e1-aa47-b023373bb5cb",
   "metadata": {},
   "outputs": [
    {
     "name": "stdout",
     "output_type": "stream",
     "text": [
      "+------------------+----------+\n",
      "|is_country_mexico?|total_used|\n",
      "+------------------+----------+\n",
      "|                No|  508076.0|\n",
      "|               Yes|    6293.0|\n",
      "+------------------+----------+\n",
      "\n"
     ]
    }
   ],
   "source": [
    "#applying 'groupby' condition on 'is_country_mexico' to get the total_Bytes_used\n",
    "df_2 = df_1.groupby(\"is_country_mexico?\").agg(sqlfunc.sum(df_1.Bytes_used).alias(\"total_used\"))\n",
    "df_2.show()"
   ]
  },
  {
   "cell_type": "code",
   "execution_count": 6,
   "id": "92f38d94-dcd1-4167-a134-2ca9f8754209",
   "metadata": {},
   "outputs": [
    {
     "name": "stdout",
     "output_type": "stream",
     "text": [
      "+--------------+-----------------------------+\n",
      "|       Country|distinct_number_of_ip_address|\n",
      "+--------------+-----------------------------+\n",
      "|         China|                          172|\n",
      "|     Indonesia|                          114|\n",
      "|   Philippines|                           65|\n",
      "|        Russia|                           56|\n",
      "|        Brazil|                           35|\n",
      "|        Poland|                           31|\n",
      "|        Sweden|                           28|\n",
      "|         Japan|                           25|\n",
      "|Czech Republic|                           23|\n",
      "|      Portugal|                           23|\n",
      "|        France|                           21|\n",
      "|          Peru|                           19|\n",
      "|      Colombia|                           17|\n",
      "| United States|                           15|\n",
      "|     Argentina|                           14|\n",
      "|       Ukraine|                           14|\n",
      "|        Mexico|                           13|\n",
      "|      Thailand|                           12|\n",
      "|       Nigeria|                           11|\n",
      "|        Canada|                           11|\n",
      "+--------------+-----------------------------+\n",
      "only showing top 20 rows\n",
      "\n"
     ]
    }
   ],
   "source": [
    "#applying 'groupby' condition on 'Country' to get the distinct_count_of_ip_addresses in descending order\n",
    "df_3 = df_1.groupby('Country').agg(sqlfunc.countDistinct(df_1.ip_address).alias('distinct_number_of_ip_address'))\n",
    "df_3.sort(col(\"distinct_number_of_ip_address\").desc()).show()"
   ]
  }
 ],
 "metadata": {
  "kernelspec": {
   "display_name": "Python 3 (ipykernel)",
   "language": "python",
   "name": "python3"
  },
  "language_info": {
   "codemirror_mode": {
    "name": "ipython",
    "version": 3
   },
   "file_extension": ".py",
   "mimetype": "text/x-python",
   "name": "python",
   "nbconvert_exporter": "python",
   "pygments_lexer": "ipython3",
   "version": "3.10.11"
  }
 },
 "nbformat": 4,
 "nbformat_minor": 5
}
