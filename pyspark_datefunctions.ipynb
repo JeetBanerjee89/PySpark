{
 "cells": [
  {
   "cell_type": "code",
   "execution_count": 1,
   "id": "94b625e5-1091-48dd-997e-4d89d1b56e7e",
   "metadata": {},
   "outputs": [],
   "source": [
    "#pyspark initialization\n",
    "import findspark\n",
    "findspark.init()"
   ]
  },
  {
   "cell_type": "code",
   "execution_count": 2,
   "id": "d911bd26-f709-48e5-a0c3-5722086cdfbd",
   "metadata": {},
   "outputs": [
    {
     "data": {
      "text/html": [
       "\n",
       "            <div>\n",
       "                <p><b>SparkSession - in-memory</b></p>\n",
       "                \n",
       "        <div>\n",
       "            <p><b>SparkContext</b></p>\n",
       "\n",
       "            <p><a href=\"http://LIN-5CG1349BDL.corp.capgemini.com:4045\">Spark UI</a></p>\n",
       "\n",
       "            <dl>\n",
       "              <dt>Version</dt>\n",
       "                <dd><code>v3.5.4</code></dd>\n",
       "              <dt>Master</dt>\n",
       "                <dd><code>local[*]</code></dd>\n",
       "              <dt>AppName</dt>\n",
       "                <dd><code>pyspark-shell</code></dd>\n",
       "            </dl>\n",
       "        </div>\n",
       "        \n",
       "            </div>\n",
       "        "
      ],
      "text/plain": [
       "<pyspark.sql.session.SparkSession at 0x1cf7c8591b0>"
      ]
     },
     "execution_count": 2,
     "metadata": {},
     "output_type": "execute_result"
    }
   ],
   "source": [
    "#building spark session\n",
    "import pyspark\n",
    "import pyspark.sql.functions as sqlfunc\n",
    "from pyspark.sql.functions import *\n",
    "from pyspark.sql import SparkSession\n",
    "spark = SparkSession.builder.master('local[*]').getOrCreate()\n",
    "spark"
   ]
  },
  {
   "cell_type": "code",
   "execution_count": 3,
   "id": "764a2aed-8b0c-41bf-9de5-cc7c677f8182",
   "metadata": {},
   "outputs": [
    {
     "name": "stdout",
     "output_type": "stream",
     "text": [
      "+---+----------------------+\n",
      "| id|date_yyyy_MM_dd_string|\n",
      "+---+----------------------+\n",
      "|  0|            2025-02-11|\n",
      "|  1|            2025-02-10|\n",
      "|  2|            2025-02-09|\n",
      "|  3|            2025-02-08|\n",
      "|  4|            2025-02-07|\n",
      "+---+----------------------+\n",
      "\n"
     ]
    }
   ],
   "source": [
    "#DataFrame creation\n",
    "data = [\n",
    "    (0, '2025-02-11'),\n",
    "    (1, '2025-02-10'),\n",
    "    (2, '2025-02-09'),\n",
    "    (3, '2025-02-08'),\n",
    "    (4, '2025-02-07')]\n",
    "columns = [\"id\", \"date_yyyy_MM_dd_string\"]\n",
    "df = spark.createDataFrame(data, columns)\n",
    "df.show()"
   ]
  },
  {
   "cell_type": "code",
   "execution_count": 4,
   "id": "715f5f61-9eff-40ff-9ba7-16f067feb123",
   "metadata": {},
   "outputs": [
    {
     "name": "stdout",
     "output_type": "stream",
     "text": [
      "+---+----------------------+--------------------+----------------------+-----------------------+-------------------+-------------------+---------------+\n",
      "| id|date_yyyy_MM_dd_string|date_yyyy_MM_dd_date|date_MM_dd_yyyy_string|current_date_yyyy_MM_dd|current_date_add_10|current_date_sub_10|date_difference|\n",
      "+---+----------------------+--------------------+----------------------+-----------------------+-------------------+-------------------+---------------+\n",
      "|  0|            2025-02-11|          2025-02-11|            02-11-2025|             2025-02-25|         2025-03-07|         2025-02-15|             20|\n",
      "|  1|            2025-02-10|          2025-02-10|            02-10-2025|             2025-02-25|         2025-03-07|         2025-02-15|             20|\n",
      "|  2|            2025-02-09|          2025-02-09|            02-09-2025|             2025-02-25|         2025-03-07|         2025-02-15|             20|\n",
      "|  3|            2025-02-08|          2025-02-08|            02-08-2025|             2025-02-25|         2025-03-07|         2025-02-15|             20|\n",
      "|  4|            2025-02-07|          2025-02-07|            02-07-2025|             2025-02-25|         2025-03-07|         2025-02-15|             20|\n",
      "+---+----------------------+--------------------+----------------------+-----------------------+-------------------+-------------------+---------------+\n",
      "\n",
      "root\n",
      " |-- id: long (nullable = true)\n",
      " |-- date_yyyy_MM_dd_string: string (nullable = true)\n",
      " |-- date_yyyy_MM_dd_date: date (nullable = true)\n",
      " |-- date_MM_dd_yyyy_string: string (nullable = true)\n",
      " |-- current_date_yyyy_MM_dd: date (nullable = false)\n",
      " |-- current_date_add_10: date (nullable = false)\n",
      " |-- current_date_sub_10: date (nullable = false)\n",
      " |-- date_difference: integer (nullable = false)\n",
      "\n"
     ]
    }
   ],
   "source": [
    "#date functions\n",
    "df_1 = df.withColumn('date_yyyy_MM_dd_date', to_date(df.date_yyyy_MM_dd_string, 'yyyy-MM-dd'))\n",
    "df_2 = df_1.withColumn('date_MM_dd_yyyy_string', date_format(df_1.date_yyyy_MM_dd_date, 'MM-dd-yyyy'))\n",
    "df_3 = df_2.withColumn('current_date_yyyy_MM_dd', current_date())\n",
    "df_4 = df_3.withColumn('current_date_add_10', date_add(df_3.current_date_yyyy_MM_dd, 10))\n",
    "df_5 = df_4.withColumn('current_date_sub_10', date_sub(df_3.current_date_yyyy_MM_dd, 10))\n",
    "df_6 = df_5.withColumn('date_difference', datediff(df_5.current_date_add_10, df_5.current_date_sub_10))\n",
    "df_6.show()\n",
    "df_6.printSchema()"
   ]
  }
 ],
 "metadata": {
  "kernelspec": {
   "display_name": "Python 3 (ipykernel)",
   "language": "python",
   "name": "python3"
  },
  "language_info": {
   "codemirror_mode": {
    "name": "ipython",
    "version": 3
   },
   "file_extension": ".py",
   "mimetype": "text/x-python",
   "name": "python",
   "nbconvert_exporter": "python",
   "pygments_lexer": "ipython3",
   "version": "3.10.11"
  }
 },
 "nbformat": 4,
 "nbformat_minor": 5
}
